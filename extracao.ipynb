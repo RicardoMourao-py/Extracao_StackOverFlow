{
 "cells": [
  {
   "cell_type": "markdown",
   "id": "4ce83908",
   "metadata": {},
   "source": [
    "# Projeto WebScraping"
   ]
  },
  {
   "cell_type": "markdown",
   "id": "adee9110",
   "metadata": {},
   "source": [
    "Alunos: Ricardo Mourão e Talissa Albertini"
   ]
  },
  {
   "cell_type": "markdown",
   "id": "5d2afb1c",
   "metadata": {},
   "source": [
    "Projeto responsável por extrair informações do site https://stackoverflow.com/questions. Sendo assim, foi decidido pegar informações diárias do site, para fazer uma análise adequada das questões que são discutidas na atualidade."
   ]
  },
  {
   "cell_type": "markdown",
   "id": "ed052e1c",
   "metadata": {},
   "source": [
    "<img src=\"proj.png\">"
   ]
  },
  {
   "cell_type": "markdown",
   "id": "1d6f4917",
   "metadata": {},
   "source": [
    "Na figura acima, é possível verificar as informações exploradas pelo projeto, sendo elas: `votes`(relevância da pergunta), `answers`, `views`, `tags` do projeto, `título` e `data`."
   ]
  },
  {
   "cell_type": "code",
   "execution_count": 1,
   "id": "2e4201a7",
   "metadata": {},
   "outputs": [],
   "source": [
    "# para trabalhar com diretórios / sistema operacional\n",
    "import os\n",
    "import re\n",
    "# para nos comunicarmos com a Web\n",
    "import requests\n",
    "\n",
    "# para extrair informações de páginas HTML\n",
    "import bs4\n",
    "from bs4 import BeautifulSoup\n",
    "\n",
    "# utilizada para nos indicar o caminho do executável do Python\n",
    "import sys\n",
    "\n",
    "# Para criar um Data Frame\n",
    "import pandas as pd\n",
    "\n",
    "# Controlar espera entre requisições\n",
    "import time\n",
    "\n",
    "# Gerar valores aleatórios\n",
    "import random\n",
    "\n",
    "# Produto cartesiano\n",
    "from sklearn.utils.extmath import cartesian\n",
    "\n",
    "# Renderizar HTML\n",
    "import IPython\n",
    "\n",
    "# Biblioteca para data de hoje\n",
    "from datetime import date\n",
    "\n",
    "import seaborn as sns\n",
    "import matplotlib.pyplot as plt"
   ]
  },
  {
   "cell_type": "markdown",
   "id": "6aaa4261",
   "metadata": {},
   "source": [
    "### Data de Hoje"
   ]
  },
  {
   "cell_type": "markdown",
   "id": "a012d9ac",
   "metadata": {},
   "source": [
    "Essa será a data em que será feita toda a análise."
   ]
  },
  {
   "cell_type": "code",
   "execution_count": 2,
   "id": "63878933",
   "metadata": {
    "scrolled": true
   },
   "outputs": [
    {
     "name": "stdout",
     "output_type": "stream",
     "text": [
      "A data de hoje é: 2023-05-28\n"
     ]
    }
   ],
   "source": [
    "data_atual = str(date.today())\n",
    "print(f'A data de hoje é: {data_atual}')"
   ]
  },
  {
   "cell_type": "markdown",
   "id": "ab9af675",
   "metadata": {},
   "source": [
    "## 1. Extração"
   ]
  },
  {
   "cell_type": "markdown",
   "id": "37c035df",
   "metadata": {},
   "source": [
    "### Coração da Extração"
   ]
  },
  {
   "cell_type": "markdown",
   "id": "2045feec",
   "metadata": {},
   "source": [
    "Responsável por pegar diretamente do site as informações. Observe que é importante definir `n`, número total dos dados, e `p`, número total da amostra. Além disso, na `lista_tag_noticia` é armazenado informações para extração de título, data e tags. Enquanto isso, na `lista_estatisticas` é armazenado informações sobre views, answers e votes nas questões apontadas pelos usuários. **Rode esta célula apenas uma vez**."
   ]
  },
  {
   "cell_type": "code",
   "execution_count": 11,
   "id": "aeb2bead",
   "metadata": {},
   "outputs": [],
   "source": [
    "headers = ({'User-Agent':\n",
    "            'Mozilla/5.0 (Windows NT 6.1) AppleWebKit/537.36 (KHTML, like Gecko) Chrome/41.0.2228.0 Safari/537.36'})\n",
    "\n",
    "lista_tag_noticia = []\n",
    "lista_estatisticas = []\n",
    "n = 500\n",
    "p = 1\n",
    "for i in range(0, n, p):\n",
    "    # extraindo paginas com requests\n",
    "    url = f'https://stackoverflow.com/questions?tab=active&page={i}'\n",
    "    resposta = requests.get(url=url, headers=headers)\n",
    "    resposta.encoding = 'utf-8'\n",
    "    \n",
    "    #pegando informações com soup\n",
    "    soup = BeautifulSoup(resposta.text, 'html.parser')\n",
    "    lista_tag_noticia.append(soup.find_all('div', class_ = 's-post-summary--content'))\n",
    "    lista_estatisticas.append(soup.find_all('div', class_ = 's-post-summary--stats js-post-summary-stats'))"
   ]
  },
  {
   "cell_type": "markdown",
   "id": "ba849e9c",
   "metadata": {},
   "source": [
    "Parte responsável para o ajuste de dados brutos em dados adequados para análise das estatísticas (views, answers e votes)."
   ]
  },
  {
   "cell_type": "code",
   "execution_count": 12,
   "id": "30f22459",
   "metadata": {},
   "outputs": [],
   "source": [
    "lista_votes = []\n",
    "\n",
    "for j in range(0, n, p):\n",
    "    lista_estatisticas_bkp_1 = lista_estatisticas[j]\n",
    "    lista_tag_noticia_bkp_2 = lista_tag_noticia[j]\n",
    "    for i in range(0, len(lista_estatisticas_bkp_1)):\n",
    "\n",
    "        tags_questions_1 = lista_estatisticas_bkp_1[i]\n",
    "        tags_questions_2 = lista_tag_noticia_bkp_2[i]\n",
    "        data_hora = re.search(r'\\d{4}-\\d{2}-\\d{2}', tags_questions_2.find('time').find('span')['title']).group()  \n",
    "        if data_hora == data_atual:\n",
    "            vote = tags_questions_1.find_all('span', class_='s-post-summary--stats-item-number')\n",
    "            lista_votes.append(vote)"
   ]
  },
  {
   "cell_type": "markdown",
   "id": "2f976b69",
   "metadata": {},
   "source": [
    "Parte responsável para o ajuste de dados brutos em dados adequados para análise das estatísticas (título, data e tags)."
   ]
  },
  {
   "cell_type": "code",
   "execution_count": 13,
   "id": "bdb8ef6a",
   "metadata": {},
   "outputs": [],
   "source": [
    "lista_titulo = []\n",
    "lista_tags = []\n",
    "lista_data = []\n",
    "\n",
    "for j in range(0, n, p):\n",
    "    lista_tag_noticia_bkp = lista_tag_noticia[j]\n",
    "    for i in range(0, len(lista_tag_noticia_bkp)):\n",
    "\n",
    "        tags_questions = lista_tag_noticia_bkp[i]\n",
    "        data_hora = re.search(r'\\d{4}-\\d{2}-\\d{2}', tags_questions.find('time').find('span')['title']).group()  \n",
    "        \n",
    "        if data_hora == data_atual:\n",
    "            titulo = tags_questions.find('h3').text\n",
    "            titulo = titulo.replace('\\n', '') #limpa os ENTERS a esquerda e direita\n",
    "            lista_titulo.append(titulo)\n",
    "            \n",
    "            tags = tags_questions.find_all('li', class_='d-inline mr4 js-post-tag-list-item')\n",
    "            lista_tags.append(tags)\n",
    "\n",
    "            lista_data.append(data_hora)"
   ]
  },
  {
   "cell_type": "markdown",
   "id": "f66cfab0",
   "metadata": {},
   "source": [
    "### Criando DataFrame"
   ]
  },
  {
   "cell_type": "code",
   "execution_count": 15,
   "id": "ae75d437",
   "metadata": {},
   "outputs": [],
   "source": [
    "df = pd.DataFrame({'titulo': lista_titulo,\n",
    "                   'Tags': lista_tags,\n",
    "                   'data': lista_data,\n",
    "                   'Estatisticas': lista_votes\n",
    "                  })"
   ]
  },
  {
   "cell_type": "code",
   "execution_count": 16,
   "id": "130502a8",
   "metadata": {},
   "outputs": [
    {
     "data": {
      "text/html": [
       "<div>\n",
       "<style scoped>\n",
       "    .dataframe tbody tr th:only-of-type {\n",
       "        vertical-align: middle;\n",
       "    }\n",
       "\n",
       "    .dataframe tbody tr th {\n",
       "        vertical-align: top;\n",
       "    }\n",
       "\n",
       "    .dataframe thead th {\n",
       "        text-align: right;\n",
       "    }\n",
       "</style>\n",
       "<table border=\"1\" class=\"dataframe\">\n",
       "  <thead>\n",
       "    <tr style=\"text-align: right;\">\n",
       "      <th></th>\n",
       "      <th>titulo</th>\n",
       "      <th>Tags</th>\n",
       "      <th>data</th>\n",
       "      <th>Estatisticas</th>\n",
       "      <th>Comentarios</th>\n",
       "    </tr>\n",
       "  </thead>\n",
       "  <tbody>\n",
       "    <tr>\n",
       "      <th>0</th>\n",
       "      <td>Is it possible to make a pixelated bitmap font...</td>\n",
       "      <td>[[[javascript]], [[node.js]], [[node-canvas]]]</td>\n",
       "      <td>2023-05-28</td>\n",
       "      <td>[[0], [1], [35]]</td>\n",
       "      <td>\\r\\n                I've been recently working...</td>\n",
       "    </tr>\n",
       "    <tr>\n",
       "      <th>1</th>\n",
       "      <td>how to deal with responses containing unicode ...</td>\n",
       "      <td>[[[swift]], [[rest]], [[get]], [[codable]], [[...</td>\n",
       "      <td>2023-05-28</td>\n",
       "      <td>[[0], [0], [6]]</td>\n",
       "      <td>\\r\\n                I have a route (\"/states\")...</td>\n",
       "    </tr>\n",
       "    <tr>\n",
       "      <th>2</th>\n",
       "      <td>Why the optimized prime number generator progr...</td>\n",
       "      <td>[[[python]], [[time-complexity]], [[primes]]]</td>\n",
       "      <td>2023-05-28</td>\n",
       "      <td>[[-2], [2], [127]]</td>\n",
       "      <td>\\r\\n                I recently work on the pri...</td>\n",
       "    </tr>\n",
       "    <tr>\n",
       "      <th>3</th>\n",
       "      <td>How can I programmatically check if JFR is rec...</td>\n",
       "      <td>[[[java]], [[jfr]]]</td>\n",
       "      <td>2023-05-28</td>\n",
       "      <td>[[2], [1], [30]]</td>\n",
       "      <td>\\r\\n                Java Flight Recorder provi...</td>\n",
       "    </tr>\n",
       "    <tr>\n",
       "      <th>4</th>\n",
       "      <td>Python: How to open map created with folium in...</td>\n",
       "      <td>[[[python]], [[python-3.x]]]</td>\n",
       "      <td>2023-05-28</td>\n",
       "      <td>[[2], [2], [5k]]</td>\n",
       "      <td>\\r\\n                I have a very small applic...</td>\n",
       "    </tr>\n",
       "    <tr>\n",
       "      <th>...</th>\n",
       "      <td>...</td>\n",
       "      <td>...</td>\n",
       "      <td>...</td>\n",
       "      <td>...</td>\n",
       "      <td>...</td>\n",
       "    </tr>\n",
       "    <tr>\n",
       "      <th>4181</th>\n",
       "      <td>JSESSIONID added to URL when Weblogic redirect...</td>\n",
       "      <td>[[[apache]], [[servlets]], [[weblogic]], [[htt...</td>\n",
       "      <td>2023-05-28</td>\n",
       "      <td>[[0], [3], [8k]]</td>\n",
       "      <td>\\r\\n                Our application is running...</td>\n",
       "    </tr>\n",
       "    <tr>\n",
       "      <th>4182</th>\n",
       "      <td>Firebase Function throwing internal error when...</td>\n",
       "      <td>[[[c#]], [[node.js]], [[firebase]], [[unity-ga...</td>\n",
       "      <td>2023-05-28</td>\n",
       "      <td>[[1], [1], [166]]</td>\n",
       "      <td>\\r\\n                I work on a Unity C# app w...</td>\n",
       "    </tr>\n",
       "    <tr>\n",
       "      <th>4183</th>\n",
       "      <td>How to use Vite when developing a local packag...</td>\n",
       "      <td>[[[laravel]], [[vite]]]</td>\n",
       "      <td>2023-05-28</td>\n",
       "      <td>[[0], [0], [14]]</td>\n",
       "      <td>\\r\\n                I am developing a package ...</td>\n",
       "    </tr>\n",
       "    <tr>\n",
       "      <th>4184</th>\n",
       "      <td>How do I increment and decrement a static vari...</td>\n",
       "      <td>[[[c++]], [[constructor]], [[destructor]]]</td>\n",
       "      <td>2023-05-28</td>\n",
       "      <td>[[0], [1], [57]]</td>\n",
       "      <td>\\r\\n                I have an Owner class that...</td>\n",
       "    </tr>\n",
       "    <tr>\n",
       "      <th>4185</th>\n",
       "      <td>I don't understand how to pass a link to rende...</td>\n",
       "      <td>[[[reactjs]], [[jsx]], [[antd]], [[tsx]], [[an...</td>\n",
       "      <td>2023-05-28</td>\n",
       "      <td>[[-1], [0], [21]]</td>\n",
       "      <td>\\r\\n                this is my first time post...</td>\n",
       "    </tr>\n",
       "  </tbody>\n",
       "</table>\n",
       "<p>4186 rows × 5 columns</p>\n",
       "</div>"
      ],
      "text/plain": [
       "                                                 titulo  \\\n",
       "0     Is it possible to make a pixelated bitmap font...   \n",
       "1     how to deal with responses containing unicode ...   \n",
       "2     Why the optimized prime number generator progr...   \n",
       "3     How can I programmatically check if JFR is rec...   \n",
       "4     Python: How to open map created with folium in...   \n",
       "...                                                 ...   \n",
       "4181  JSESSIONID added to URL when Weblogic redirect...   \n",
       "4182  Firebase Function throwing internal error when...   \n",
       "4183  How to use Vite when developing a local packag...   \n",
       "4184  How do I increment and decrement a static vari...   \n",
       "4185  I don't understand how to pass a link to rende...   \n",
       "\n",
       "                                                   Tags        data  \\\n",
       "0        [[[javascript]], [[node.js]], [[node-canvas]]]  2023-05-28   \n",
       "1     [[[swift]], [[rest]], [[get]], [[codable]], [[...  2023-05-28   \n",
       "2         [[[python]], [[time-complexity]], [[primes]]]  2023-05-28   \n",
       "3                                   [[[java]], [[jfr]]]  2023-05-28   \n",
       "4                          [[[python]], [[python-3.x]]]  2023-05-28   \n",
       "...                                                 ...         ...   \n",
       "4181  [[[apache]], [[servlets]], [[weblogic]], [[htt...  2023-05-28   \n",
       "4182  [[[c#]], [[node.js]], [[firebase]], [[unity-ga...  2023-05-28   \n",
       "4183                            [[[laravel]], [[vite]]]  2023-05-28   \n",
       "4184         [[[c++]], [[constructor]], [[destructor]]]  2023-05-28   \n",
       "4185  [[[reactjs]], [[jsx]], [[antd]], [[tsx]], [[an...  2023-05-28   \n",
       "\n",
       "            Estatisticas                                        Comentarios  \n",
       "0       [[0], [1], [35]]  \\r\\n                I've been recently working...  \n",
       "1        [[0], [0], [6]]  \\r\\n                I have a route (\"/states\")...  \n",
       "2     [[-2], [2], [127]]  \\r\\n                I recently work on the pri...  \n",
       "3       [[2], [1], [30]]  \\r\\n                Java Flight Recorder provi...  \n",
       "4       [[2], [2], [5k]]  \\r\\n                I have a very small applic...  \n",
       "...                  ...                                                ...  \n",
       "4181    [[0], [3], [8k]]  \\r\\n                Our application is running...  \n",
       "4182   [[1], [1], [166]]  \\r\\n                I work on a Unity C# app w...  \n",
       "4183    [[0], [0], [14]]  \\r\\n                I am developing a package ...  \n",
       "4184    [[0], [1], [57]]  \\r\\n                I have an Owner class that...  \n",
       "4185   [[-1], [0], [21]]  \\r\\n                this is my first time post...  \n",
       "\n",
       "[4186 rows x 5 columns]"
      ]
     },
     "execution_count": 16,
     "metadata": {},
     "output_type": "execute_result"
    }
   ],
   "source": [
    "df"
   ]
  },
  {
   "cell_type": "code",
   "execution_count": 17,
   "id": "77aa9125",
   "metadata": {
    "scrolled": false
   },
   "outputs": [
    {
     "data": {
      "text/plain": [
       "[<li class=\"d-inline mr4 js-post-tag-list-item\"><a aria-label=\"show questions tagged 'javascript'\" aria-labelledby=\"tag-javascript-tooltip-container\" class=\"post-tag flex--item mt0 js-tagname-javascript\" href=\"/questions/tagged/javascript\" rel=\"tag\" title=\"show questions tagged 'javascript'\">javascript</a></li>,\n",
       " <li class=\"d-inline mr4 js-post-tag-list-item\"><a aria-label=\"show questions tagged 'node.js'\" aria-labelledby=\"tag-node.js-tooltip-container\" class=\"post-tag flex--item mt0 js-tagname-nodeûjs\" href=\"/questions/tagged/node.js\" rel=\"tag\" title=\"show questions tagged 'node.js'\">node.js</a></li>,\n",
       " <li class=\"d-inline mr4 js-post-tag-list-item\"><a aria-label=\"show questions tagged 'node-canvas'\" aria-labelledby=\"tag-node-canvas-tooltip-container\" class=\"post-tag flex--item mt0 js-tagname-node-canvas\" href=\"/questions/tagged/node-canvas\" rel=\"tag\" title=\"show questions tagged 'node-canvas'\">node-canvas</a></li>]"
      ]
     },
     "execution_count": 17,
     "metadata": {},
     "output_type": "execute_result"
    }
   ],
   "source": [
    "# Transforma tags html em tags str\n",
    "df.Tags[0]"
   ]
  },
  {
   "cell_type": "markdown",
   "id": "7b969f98",
   "metadata": {},
   "source": [
    "### Manipulação dos Dados"
   ]
  },
  {
   "cell_type": "code",
   "execution_count": 18,
   "id": "d959e244",
   "metadata": {
    "scrolled": false
   },
   "outputs": [
    {
     "data": {
      "text/html": [
       "<div>\n",
       "<style scoped>\n",
       "    .dataframe tbody tr th:only-of-type {\n",
       "        vertical-align: middle;\n",
       "    }\n",
       "\n",
       "    .dataframe tbody tr th {\n",
       "        vertical-align: top;\n",
       "    }\n",
       "\n",
       "    .dataframe thead th {\n",
       "        text-align: right;\n",
       "    }\n",
       "</style>\n",
       "<table border=\"1\" class=\"dataframe\">\n",
       "  <thead>\n",
       "    <tr style=\"text-align: right;\">\n",
       "      <th></th>\n",
       "      <th>titulo</th>\n",
       "      <th>Tags</th>\n",
       "      <th>data</th>\n",
       "      <th>Estatisticas</th>\n",
       "      <th>Comentarios</th>\n",
       "      <th>tags</th>\n",
       "    </tr>\n",
       "  </thead>\n",
       "  <tbody>\n",
       "    <tr>\n",
       "      <th>0</th>\n",
       "      <td>Is it possible to make a pixelated bitmap font...</td>\n",
       "      <td>[[[javascript]], [[node.js]], [[node-canvas]]]</td>\n",
       "      <td>2023-05-28</td>\n",
       "      <td>[[0], [1], [35]]</td>\n",
       "      <td>\\r\\n                I've been recently working...</td>\n",
       "      <td>[javascript, node.js, node-canvas]</td>\n",
       "    </tr>\n",
       "    <tr>\n",
       "      <th>1</th>\n",
       "      <td>how to deal with responses containing unicode ...</td>\n",
       "      <td>[[[swift]], [[rest]], [[get]], [[codable]], [[...</td>\n",
       "      <td>2023-05-28</td>\n",
       "      <td>[[0], [0], [6]]</td>\n",
       "      <td>\\r\\n                I have a route (\"/states\")...</td>\n",
       "      <td>[swift, rest, get, codable, kitura]</td>\n",
       "    </tr>\n",
       "    <tr>\n",
       "      <th>2</th>\n",
       "      <td>Why the optimized prime number generator progr...</td>\n",
       "      <td>[[[python]], [[time-complexity]], [[primes]]]</td>\n",
       "      <td>2023-05-28</td>\n",
       "      <td>[[-2], [2], [127]]</td>\n",
       "      <td>\\r\\n                I recently work on the pri...</td>\n",
       "      <td>[python, time-complexity, primes]</td>\n",
       "    </tr>\n",
       "    <tr>\n",
       "      <th>3</th>\n",
       "      <td>How can I programmatically check if JFR is rec...</td>\n",
       "      <td>[[[java]], [[jfr]]]</td>\n",
       "      <td>2023-05-28</td>\n",
       "      <td>[[2], [1], [30]]</td>\n",
       "      <td>\\r\\n                Java Flight Recorder provi...</td>\n",
       "      <td>[java, jfr]</td>\n",
       "    </tr>\n",
       "    <tr>\n",
       "      <th>4</th>\n",
       "      <td>Python: How to open map created with folium in...</td>\n",
       "      <td>[[[python]], [[python-3.x]]]</td>\n",
       "      <td>2023-05-28</td>\n",
       "      <td>[[2], [2], [5k]]</td>\n",
       "      <td>\\r\\n                I have a very small applic...</td>\n",
       "      <td>[python, python-3.x]</td>\n",
       "    </tr>\n",
       "    <tr>\n",
       "      <th>...</th>\n",
       "      <td>...</td>\n",
       "      <td>...</td>\n",
       "      <td>...</td>\n",
       "      <td>...</td>\n",
       "      <td>...</td>\n",
       "      <td>...</td>\n",
       "    </tr>\n",
       "    <tr>\n",
       "      <th>4181</th>\n",
       "      <td>JSESSIONID added to URL when Weblogic redirect...</td>\n",
       "      <td>[[[apache]], [[servlets]], [[weblogic]], [[htt...</td>\n",
       "      <td>2023-05-28</td>\n",
       "      <td>[[0], [3], [8k]]</td>\n",
       "      <td>\\r\\n                Our application is running...</td>\n",
       "      <td>[apache, servlets, weblogic, httpsession, jses...</td>\n",
       "    </tr>\n",
       "    <tr>\n",
       "      <th>4182</th>\n",
       "      <td>Firebase Function throwing internal error when...</td>\n",
       "      <td>[[[c#]], [[node.js]], [[firebase]], [[unity-ga...</td>\n",
       "      <td>2023-05-28</td>\n",
       "      <td>[[1], [1], [166]]</td>\n",
       "      <td>\\r\\n                I work on a Unity C# app w...</td>\n",
       "      <td>[c#, node.js, firebase, unity-game-engine, goo...</td>\n",
       "    </tr>\n",
       "    <tr>\n",
       "      <th>4183</th>\n",
       "      <td>How to use Vite when developing a local packag...</td>\n",
       "      <td>[[[laravel]], [[vite]]]</td>\n",
       "      <td>2023-05-28</td>\n",
       "      <td>[[0], [0], [14]]</td>\n",
       "      <td>\\r\\n                I am developing a package ...</td>\n",
       "      <td>[laravel, vite]</td>\n",
       "    </tr>\n",
       "    <tr>\n",
       "      <th>4184</th>\n",
       "      <td>How do I increment and decrement a static vari...</td>\n",
       "      <td>[[[c++]], [[constructor]], [[destructor]]]</td>\n",
       "      <td>2023-05-28</td>\n",
       "      <td>[[0], [1], [57]]</td>\n",
       "      <td>\\r\\n                I have an Owner class that...</td>\n",
       "      <td>[c++, constructor, destructor]</td>\n",
       "    </tr>\n",
       "    <tr>\n",
       "      <th>4185</th>\n",
       "      <td>I don't understand how to pass a link to rende...</td>\n",
       "      <td>[[[reactjs]], [[jsx]], [[antd]], [[tsx]], [[an...</td>\n",
       "      <td>2023-05-28</td>\n",
       "      <td>[[-1], [0], [21]]</td>\n",
       "      <td>\\r\\n                this is my first time post...</td>\n",
       "      <td>[reactjs, jsx, antd, tsx, ant-design-pro]</td>\n",
       "    </tr>\n",
       "  </tbody>\n",
       "</table>\n",
       "<p>4186 rows × 6 columns</p>\n",
       "</div>"
      ],
      "text/plain": [
       "                                                 titulo  \\\n",
       "0     Is it possible to make a pixelated bitmap font...   \n",
       "1     how to deal with responses containing unicode ...   \n",
       "2     Why the optimized prime number generator progr...   \n",
       "3     How can I programmatically check if JFR is rec...   \n",
       "4     Python: How to open map created with folium in...   \n",
       "...                                                 ...   \n",
       "4181  JSESSIONID added to URL when Weblogic redirect...   \n",
       "4182  Firebase Function throwing internal error when...   \n",
       "4183  How to use Vite when developing a local packag...   \n",
       "4184  How do I increment and decrement a static vari...   \n",
       "4185  I don't understand how to pass a link to rende...   \n",
       "\n",
       "                                                   Tags        data  \\\n",
       "0        [[[javascript]], [[node.js]], [[node-canvas]]]  2023-05-28   \n",
       "1     [[[swift]], [[rest]], [[get]], [[codable]], [[...  2023-05-28   \n",
       "2         [[[python]], [[time-complexity]], [[primes]]]  2023-05-28   \n",
       "3                                   [[[java]], [[jfr]]]  2023-05-28   \n",
       "4                          [[[python]], [[python-3.x]]]  2023-05-28   \n",
       "...                                                 ...         ...   \n",
       "4181  [[[apache]], [[servlets]], [[weblogic]], [[htt...  2023-05-28   \n",
       "4182  [[[c#]], [[node.js]], [[firebase]], [[unity-ga...  2023-05-28   \n",
       "4183                            [[[laravel]], [[vite]]]  2023-05-28   \n",
       "4184         [[[c++]], [[constructor]], [[destructor]]]  2023-05-28   \n",
       "4185  [[[reactjs]], [[jsx]], [[antd]], [[tsx]], [[an...  2023-05-28   \n",
       "\n",
       "            Estatisticas                                        Comentarios  \\\n",
       "0       [[0], [1], [35]]  \\r\\n                I've been recently working...   \n",
       "1        [[0], [0], [6]]  \\r\\n                I have a route (\"/states\")...   \n",
       "2     [[-2], [2], [127]]  \\r\\n                I recently work on the pri...   \n",
       "3       [[2], [1], [30]]  \\r\\n                Java Flight Recorder provi...   \n",
       "4       [[2], [2], [5k]]  \\r\\n                I have a very small applic...   \n",
       "...                  ...                                                ...   \n",
       "4181    [[0], [3], [8k]]  \\r\\n                Our application is running...   \n",
       "4182   [[1], [1], [166]]  \\r\\n                I work on a Unity C# app w...   \n",
       "4183    [[0], [0], [14]]  \\r\\n                I am developing a package ...   \n",
       "4184    [[0], [1], [57]]  \\r\\n                I have an Owner class that...   \n",
       "4185   [[-1], [0], [21]]  \\r\\n                this is my first time post...   \n",
       "\n",
       "                                                   tags  \n",
       "0                    [javascript, node.js, node-canvas]  \n",
       "1                   [swift, rest, get, codable, kitura]  \n",
       "2                     [python, time-complexity, primes]  \n",
       "3                                           [java, jfr]  \n",
       "4                                  [python, python-3.x]  \n",
       "...                                                 ...  \n",
       "4181  [apache, servlets, weblogic, httpsession, jses...  \n",
       "4182  [c#, node.js, firebase, unity-game-engine, goo...  \n",
       "4183                                    [laravel, vite]  \n",
       "4184                     [c++, constructor, destructor]  \n",
       "4185          [reactjs, jsx, antd, tsx, ant-design-pro]  \n",
       "\n",
       "[4186 rows x 6 columns]"
      ]
     },
     "execution_count": 18,
     "metadata": {},
     "output_type": "execute_result"
    }
   ],
   "source": [
    "# Função lambda para extrair os valores da lista\n",
    "extract_values = lambda x: [item.text for item in x]\n",
    "\n",
    "# Aplicando a função lambda na coluna 'Tags' e criando uma nova coluna 'tags'\n",
    "df['tags'] = df['Tags'].apply(lambda x: extract_values(x))\n",
    "\n",
    "# Exibindo o DataFrame resultante\n",
    "df"
   ]
  },
  {
   "cell_type": "code",
   "execution_count": 19,
   "id": "94014e24",
   "metadata": {
    "scrolled": false
   },
   "outputs": [
    {
     "data": {
      "text/html": [
       "<div>\n",
       "<style scoped>\n",
       "    .dataframe tbody tr th:only-of-type {\n",
       "        vertical-align: middle;\n",
       "    }\n",
       "\n",
       "    .dataframe tbody tr th {\n",
       "        vertical-align: top;\n",
       "    }\n",
       "\n",
       "    .dataframe thead th {\n",
       "        text-align: right;\n",
       "    }\n",
       "</style>\n",
       "<table border=\"1\" class=\"dataframe\">\n",
       "  <thead>\n",
       "    <tr style=\"text-align: right;\">\n",
       "      <th></th>\n",
       "      <th>titulo</th>\n",
       "      <th>Tags</th>\n",
       "      <th>data</th>\n",
       "      <th>Estatisticas</th>\n",
       "      <th>Comentarios</th>\n",
       "      <th>tags</th>\n",
       "      <th>estatisticas</th>\n",
       "    </tr>\n",
       "  </thead>\n",
       "  <tbody>\n",
       "    <tr>\n",
       "      <th>0</th>\n",
       "      <td>Is it possible to make a pixelated bitmap font...</td>\n",
       "      <td>[[[javascript]], [[node.js]], [[node-canvas]]]</td>\n",
       "      <td>2023-05-28</td>\n",
       "      <td>[[0], [1], [35]]</td>\n",
       "      <td>\\r\\n                I've been recently working...</td>\n",
       "      <td>[javascript, node.js, node-canvas]</td>\n",
       "      <td>[0, 1, 35]</td>\n",
       "    </tr>\n",
       "    <tr>\n",
       "      <th>1</th>\n",
       "      <td>how to deal with responses containing unicode ...</td>\n",
       "      <td>[[[swift]], [[rest]], [[get]], [[codable]], [[...</td>\n",
       "      <td>2023-05-28</td>\n",
       "      <td>[[0], [0], [6]]</td>\n",
       "      <td>\\r\\n                I have a route (\"/states\")...</td>\n",
       "      <td>[swift, rest, get, codable, kitura]</td>\n",
       "      <td>[0, 0, 6]</td>\n",
       "    </tr>\n",
       "    <tr>\n",
       "      <th>2</th>\n",
       "      <td>Why the optimized prime number generator progr...</td>\n",
       "      <td>[[[python]], [[time-complexity]], [[primes]]]</td>\n",
       "      <td>2023-05-28</td>\n",
       "      <td>[[-2], [2], [127]]</td>\n",
       "      <td>\\r\\n                I recently work on the pri...</td>\n",
       "      <td>[python, time-complexity, primes]</td>\n",
       "      <td>[-2, 2, 127]</td>\n",
       "    </tr>\n",
       "    <tr>\n",
       "      <th>3</th>\n",
       "      <td>How can I programmatically check if JFR is rec...</td>\n",
       "      <td>[[[java]], [[jfr]]]</td>\n",
       "      <td>2023-05-28</td>\n",
       "      <td>[[2], [1], [30]]</td>\n",
       "      <td>\\r\\n                Java Flight Recorder provi...</td>\n",
       "      <td>[java, jfr]</td>\n",
       "      <td>[2, 1, 30]</td>\n",
       "    </tr>\n",
       "    <tr>\n",
       "      <th>4</th>\n",
       "      <td>Python: How to open map created with folium in...</td>\n",
       "      <td>[[[python]], [[python-3.x]]]</td>\n",
       "      <td>2023-05-28</td>\n",
       "      <td>[[2], [2], [5k]]</td>\n",
       "      <td>\\r\\n                I have a very small applic...</td>\n",
       "      <td>[python, python-3.x]</td>\n",
       "      <td>[2, 2, 5k]</td>\n",
       "    </tr>\n",
       "    <tr>\n",
       "      <th>...</th>\n",
       "      <td>...</td>\n",
       "      <td>...</td>\n",
       "      <td>...</td>\n",
       "      <td>...</td>\n",
       "      <td>...</td>\n",
       "      <td>...</td>\n",
       "      <td>...</td>\n",
       "    </tr>\n",
       "    <tr>\n",
       "      <th>4181</th>\n",
       "      <td>JSESSIONID added to URL when Weblogic redirect...</td>\n",
       "      <td>[[[apache]], [[servlets]], [[weblogic]], [[htt...</td>\n",
       "      <td>2023-05-28</td>\n",
       "      <td>[[0], [3], [8k]]</td>\n",
       "      <td>\\r\\n                Our application is running...</td>\n",
       "      <td>[apache, servlets, weblogic, httpsession, jses...</td>\n",
       "      <td>[0, 3, 8k]</td>\n",
       "    </tr>\n",
       "    <tr>\n",
       "      <th>4182</th>\n",
       "      <td>Firebase Function throwing internal error when...</td>\n",
       "      <td>[[[c#]], [[node.js]], [[firebase]], [[unity-ga...</td>\n",
       "      <td>2023-05-28</td>\n",
       "      <td>[[1], [1], [166]]</td>\n",
       "      <td>\\r\\n                I work on a Unity C# app w...</td>\n",
       "      <td>[c#, node.js, firebase, unity-game-engine, goo...</td>\n",
       "      <td>[1, 1, 166]</td>\n",
       "    </tr>\n",
       "    <tr>\n",
       "      <th>4183</th>\n",
       "      <td>How to use Vite when developing a local packag...</td>\n",
       "      <td>[[[laravel]], [[vite]]]</td>\n",
       "      <td>2023-05-28</td>\n",
       "      <td>[[0], [0], [14]]</td>\n",
       "      <td>\\r\\n                I am developing a package ...</td>\n",
       "      <td>[laravel, vite]</td>\n",
       "      <td>[0, 0, 14]</td>\n",
       "    </tr>\n",
       "    <tr>\n",
       "      <th>4184</th>\n",
       "      <td>How do I increment and decrement a static vari...</td>\n",
       "      <td>[[[c++]], [[constructor]], [[destructor]]]</td>\n",
       "      <td>2023-05-28</td>\n",
       "      <td>[[0], [1], [57]]</td>\n",
       "      <td>\\r\\n                I have an Owner class that...</td>\n",
       "      <td>[c++, constructor, destructor]</td>\n",
       "      <td>[0, 1, 57]</td>\n",
       "    </tr>\n",
       "    <tr>\n",
       "      <th>4185</th>\n",
       "      <td>I don't understand how to pass a link to rende...</td>\n",
       "      <td>[[[reactjs]], [[jsx]], [[antd]], [[tsx]], [[an...</td>\n",
       "      <td>2023-05-28</td>\n",
       "      <td>[[-1], [0], [21]]</td>\n",
       "      <td>\\r\\n                this is my first time post...</td>\n",
       "      <td>[reactjs, jsx, antd, tsx, ant-design-pro]</td>\n",
       "      <td>[-1, 0, 21]</td>\n",
       "    </tr>\n",
       "  </tbody>\n",
       "</table>\n",
       "<p>4186 rows × 7 columns</p>\n",
       "</div>"
      ],
      "text/plain": [
       "                                                 titulo  \\\n",
       "0     Is it possible to make a pixelated bitmap font...   \n",
       "1     how to deal with responses containing unicode ...   \n",
       "2     Why the optimized prime number generator progr...   \n",
       "3     How can I programmatically check if JFR is rec...   \n",
       "4     Python: How to open map created with folium in...   \n",
       "...                                                 ...   \n",
       "4181  JSESSIONID added to URL when Weblogic redirect...   \n",
       "4182  Firebase Function throwing internal error when...   \n",
       "4183  How to use Vite when developing a local packag...   \n",
       "4184  How do I increment and decrement a static vari...   \n",
       "4185  I don't understand how to pass a link to rende...   \n",
       "\n",
       "                                                   Tags        data  \\\n",
       "0        [[[javascript]], [[node.js]], [[node-canvas]]]  2023-05-28   \n",
       "1     [[[swift]], [[rest]], [[get]], [[codable]], [[...  2023-05-28   \n",
       "2         [[[python]], [[time-complexity]], [[primes]]]  2023-05-28   \n",
       "3                                   [[[java]], [[jfr]]]  2023-05-28   \n",
       "4                          [[[python]], [[python-3.x]]]  2023-05-28   \n",
       "...                                                 ...         ...   \n",
       "4181  [[[apache]], [[servlets]], [[weblogic]], [[htt...  2023-05-28   \n",
       "4182  [[[c#]], [[node.js]], [[firebase]], [[unity-ga...  2023-05-28   \n",
       "4183                            [[[laravel]], [[vite]]]  2023-05-28   \n",
       "4184         [[[c++]], [[constructor]], [[destructor]]]  2023-05-28   \n",
       "4185  [[[reactjs]], [[jsx]], [[antd]], [[tsx]], [[an...  2023-05-28   \n",
       "\n",
       "            Estatisticas                                        Comentarios  \\\n",
       "0       [[0], [1], [35]]  \\r\\n                I've been recently working...   \n",
       "1        [[0], [0], [6]]  \\r\\n                I have a route (\"/states\")...   \n",
       "2     [[-2], [2], [127]]  \\r\\n                I recently work on the pri...   \n",
       "3       [[2], [1], [30]]  \\r\\n                Java Flight Recorder provi...   \n",
       "4       [[2], [2], [5k]]  \\r\\n                I have a very small applic...   \n",
       "...                  ...                                                ...   \n",
       "4181    [[0], [3], [8k]]  \\r\\n                Our application is running...   \n",
       "4182   [[1], [1], [166]]  \\r\\n                I work on a Unity C# app w...   \n",
       "4183    [[0], [0], [14]]  \\r\\n                I am developing a package ...   \n",
       "4184    [[0], [1], [57]]  \\r\\n                I have an Owner class that...   \n",
       "4185   [[-1], [0], [21]]  \\r\\n                this is my first time post...   \n",
       "\n",
       "                                                   tags  estatisticas  \n",
       "0                    [javascript, node.js, node-canvas]    [0, 1, 35]  \n",
       "1                   [swift, rest, get, codable, kitura]     [0, 0, 6]  \n",
       "2                     [python, time-complexity, primes]  [-2, 2, 127]  \n",
       "3                                           [java, jfr]    [2, 1, 30]  \n",
       "4                                  [python, python-3.x]    [2, 2, 5k]  \n",
       "...                                                 ...           ...  \n",
       "4181  [apache, servlets, weblogic, httpsession, jses...    [0, 3, 8k]  \n",
       "4182  [c#, node.js, firebase, unity-game-engine, goo...   [1, 1, 166]  \n",
       "4183                                    [laravel, vite]    [0, 0, 14]  \n",
       "4184                     [c++, constructor, destructor]    [0, 1, 57]  \n",
       "4185          [reactjs, jsx, antd, tsx, ant-design-pro]   [-1, 0, 21]  \n",
       "\n",
       "[4186 rows x 7 columns]"
      ]
     },
     "execution_count": 19,
     "metadata": {},
     "output_type": "execute_result"
    }
   ],
   "source": [
    "# Função lambda para extrair os valores da lista\n",
    "extract_values = lambda x: [item.text for item in x]\n",
    "\n",
    "# Aplicando a função lambda na coluna 'Estatisticas' e criando uma nova coluna 'estatisticas'\n",
    "df['estatisticas'] = df['Estatisticas'].apply(lambda x: extract_values(x))\n",
    "\n",
    "# Exibindo o DataFrame resultante\n",
    "df"
   ]
  },
  {
   "cell_type": "code",
   "execution_count": 20,
   "id": "9380d300",
   "metadata": {},
   "outputs": [],
   "source": [
    "# Eliminando colunas repetidas\n",
    "df = df.drop(columns = ['Tags', 'Estatisticas'])"
   ]
  },
  {
   "cell_type": "code",
   "execution_count": 21,
   "id": "d05aefc3",
   "metadata": {},
   "outputs": [
    {
     "data": {
      "text/html": [
       "<div>\n",
       "<style scoped>\n",
       "    .dataframe tbody tr th:only-of-type {\n",
       "        vertical-align: middle;\n",
       "    }\n",
       "\n",
       "    .dataframe tbody tr th {\n",
       "        vertical-align: top;\n",
       "    }\n",
       "\n",
       "    .dataframe thead th {\n",
       "        text-align: right;\n",
       "    }\n",
       "</style>\n",
       "<table border=\"1\" class=\"dataframe\">\n",
       "  <thead>\n",
       "    <tr style=\"text-align: right;\">\n",
       "      <th></th>\n",
       "      <th>titulo</th>\n",
       "      <th>data</th>\n",
       "      <th>Comentarios</th>\n",
       "      <th>tags</th>\n",
       "      <th>estatisticas</th>\n",
       "    </tr>\n",
       "  </thead>\n",
       "  <tbody>\n",
       "    <tr>\n",
       "      <th>0</th>\n",
       "      <td>Is it possible to make a pixelated bitmap font...</td>\n",
       "      <td>2023-05-28</td>\n",
       "      <td>\\r\\n                I've been recently working...</td>\n",
       "      <td>[javascript, node.js, node-canvas]</td>\n",
       "      <td>[0, 1, 35]</td>\n",
       "    </tr>\n",
       "    <tr>\n",
       "      <th>1</th>\n",
       "      <td>how to deal with responses containing unicode ...</td>\n",
       "      <td>2023-05-28</td>\n",
       "      <td>\\r\\n                I have a route (\"/states\")...</td>\n",
       "      <td>[swift, rest, get, codable, kitura]</td>\n",
       "      <td>[0, 0, 6]</td>\n",
       "    </tr>\n",
       "    <tr>\n",
       "      <th>2</th>\n",
       "      <td>Why the optimized prime number generator progr...</td>\n",
       "      <td>2023-05-28</td>\n",
       "      <td>\\r\\n                I recently work on the pri...</td>\n",
       "      <td>[python, time-complexity, primes]</td>\n",
       "      <td>[-2, 2, 127]</td>\n",
       "    </tr>\n",
       "    <tr>\n",
       "      <th>3</th>\n",
       "      <td>How can I programmatically check if JFR is rec...</td>\n",
       "      <td>2023-05-28</td>\n",
       "      <td>\\r\\n                Java Flight Recorder provi...</td>\n",
       "      <td>[java, jfr]</td>\n",
       "      <td>[2, 1, 30]</td>\n",
       "    </tr>\n",
       "    <tr>\n",
       "      <th>4</th>\n",
       "      <td>Python: How to open map created with folium in...</td>\n",
       "      <td>2023-05-28</td>\n",
       "      <td>\\r\\n                I have a very small applic...</td>\n",
       "      <td>[python, python-3.x]</td>\n",
       "      <td>[2, 2, 5k]</td>\n",
       "    </tr>\n",
       "    <tr>\n",
       "      <th>...</th>\n",
       "      <td>...</td>\n",
       "      <td>...</td>\n",
       "      <td>...</td>\n",
       "      <td>...</td>\n",
       "      <td>...</td>\n",
       "    </tr>\n",
       "    <tr>\n",
       "      <th>4181</th>\n",
       "      <td>JSESSIONID added to URL when Weblogic redirect...</td>\n",
       "      <td>2023-05-28</td>\n",
       "      <td>\\r\\n                Our application is running...</td>\n",
       "      <td>[apache, servlets, weblogic, httpsession, jses...</td>\n",
       "      <td>[0, 3, 8k]</td>\n",
       "    </tr>\n",
       "    <tr>\n",
       "      <th>4182</th>\n",
       "      <td>Firebase Function throwing internal error when...</td>\n",
       "      <td>2023-05-28</td>\n",
       "      <td>\\r\\n                I work on a Unity C# app w...</td>\n",
       "      <td>[c#, node.js, firebase, unity-game-engine, goo...</td>\n",
       "      <td>[1, 1, 166]</td>\n",
       "    </tr>\n",
       "    <tr>\n",
       "      <th>4183</th>\n",
       "      <td>How to use Vite when developing a local packag...</td>\n",
       "      <td>2023-05-28</td>\n",
       "      <td>\\r\\n                I am developing a package ...</td>\n",
       "      <td>[laravel, vite]</td>\n",
       "      <td>[0, 0, 14]</td>\n",
       "    </tr>\n",
       "    <tr>\n",
       "      <th>4184</th>\n",
       "      <td>How do I increment and decrement a static vari...</td>\n",
       "      <td>2023-05-28</td>\n",
       "      <td>\\r\\n                I have an Owner class that...</td>\n",
       "      <td>[c++, constructor, destructor]</td>\n",
       "      <td>[0, 1, 57]</td>\n",
       "    </tr>\n",
       "    <tr>\n",
       "      <th>4185</th>\n",
       "      <td>I don't understand how to pass a link to rende...</td>\n",
       "      <td>2023-05-28</td>\n",
       "      <td>\\r\\n                this is my first time post...</td>\n",
       "      <td>[reactjs, jsx, antd, tsx, ant-design-pro]</td>\n",
       "      <td>[-1, 0, 21]</td>\n",
       "    </tr>\n",
       "  </tbody>\n",
       "</table>\n",
       "<p>4186 rows × 5 columns</p>\n",
       "</div>"
      ],
      "text/plain": [
       "                                                 titulo        data  \\\n",
       "0     Is it possible to make a pixelated bitmap font...  2023-05-28   \n",
       "1     how to deal with responses containing unicode ...  2023-05-28   \n",
       "2     Why the optimized prime number generator progr...  2023-05-28   \n",
       "3     How can I programmatically check if JFR is rec...  2023-05-28   \n",
       "4     Python: How to open map created with folium in...  2023-05-28   \n",
       "...                                                 ...         ...   \n",
       "4181  JSESSIONID added to URL when Weblogic redirect...  2023-05-28   \n",
       "4182  Firebase Function throwing internal error when...  2023-05-28   \n",
       "4183  How to use Vite when developing a local packag...  2023-05-28   \n",
       "4184  How do I increment and decrement a static vari...  2023-05-28   \n",
       "4185  I don't understand how to pass a link to rende...  2023-05-28   \n",
       "\n",
       "                                            Comentarios  \\\n",
       "0     \\r\\n                I've been recently working...   \n",
       "1     \\r\\n                I have a route (\"/states\")...   \n",
       "2     \\r\\n                I recently work on the pri...   \n",
       "3     \\r\\n                Java Flight Recorder provi...   \n",
       "4     \\r\\n                I have a very small applic...   \n",
       "...                                                 ...   \n",
       "4181  \\r\\n                Our application is running...   \n",
       "4182  \\r\\n                I work on a Unity C# app w...   \n",
       "4183  \\r\\n                I am developing a package ...   \n",
       "4184  \\r\\n                I have an Owner class that...   \n",
       "4185  \\r\\n                this is my first time post...   \n",
       "\n",
       "                                                   tags  estatisticas  \n",
       "0                    [javascript, node.js, node-canvas]    [0, 1, 35]  \n",
       "1                   [swift, rest, get, codable, kitura]     [0, 0, 6]  \n",
       "2                     [python, time-complexity, primes]  [-2, 2, 127]  \n",
       "3                                           [java, jfr]    [2, 1, 30]  \n",
       "4                                  [python, python-3.x]    [2, 2, 5k]  \n",
       "...                                                 ...           ...  \n",
       "4181  [apache, servlets, weblogic, httpsession, jses...    [0, 3, 8k]  \n",
       "4182  [c#, node.js, firebase, unity-game-engine, goo...   [1, 1, 166]  \n",
       "4183                                    [laravel, vite]    [0, 0, 14]  \n",
       "4184                     [c++, constructor, destructor]    [0, 1, 57]  \n",
       "4185          [reactjs, jsx, antd, tsx, ant-design-pro]   [-1, 0, 21]  \n",
       "\n",
       "[4186 rows x 5 columns]"
      ]
     },
     "execution_count": 21,
     "metadata": {},
     "output_type": "execute_result"
    }
   ],
   "source": [
    "df"
   ]
  },
  {
   "cell_type": "code",
   "execution_count": 22,
   "id": "06cf4efb",
   "metadata": {},
   "outputs": [
    {
     "data": {
      "text/html": [
       "<div>\n",
       "<style scoped>\n",
       "    .dataframe tbody tr th:only-of-type {\n",
       "        vertical-align: middle;\n",
       "    }\n",
       "\n",
       "    .dataframe tbody tr th {\n",
       "        vertical-align: top;\n",
       "    }\n",
       "\n",
       "    .dataframe thead th {\n",
       "        text-align: right;\n",
       "    }\n",
       "</style>\n",
       "<table border=\"1\" class=\"dataframe\">\n",
       "  <thead>\n",
       "    <tr style=\"text-align: right;\">\n",
       "      <th></th>\n",
       "      <th>titulo</th>\n",
       "      <th>data</th>\n",
       "      <th>Comentarios</th>\n",
       "      <th>tags</th>\n",
       "      <th>estatisticas</th>\n",
       "      <th>votes</th>\n",
       "      <th>answers</th>\n",
       "      <th>views</th>\n",
       "    </tr>\n",
       "  </thead>\n",
       "  <tbody>\n",
       "    <tr>\n",
       "      <th>0</th>\n",
       "      <td>Is it possible to make a pixelated bitmap font...</td>\n",
       "      <td>2023-05-28</td>\n",
       "      <td>\\r\\n                I've been recently working...</td>\n",
       "      <td>[javascript, node.js, node-canvas]</td>\n",
       "      <td>[0, 1, 35]</td>\n",
       "      <td>0</td>\n",
       "      <td>1</td>\n",
       "      <td>35</td>\n",
       "    </tr>\n",
       "    <tr>\n",
       "      <th>1</th>\n",
       "      <td>how to deal with responses containing unicode ...</td>\n",
       "      <td>2023-05-28</td>\n",
       "      <td>\\r\\n                I have a route (\"/states\")...</td>\n",
       "      <td>[swift, rest, get, codable, kitura]</td>\n",
       "      <td>[0, 0, 6]</td>\n",
       "      <td>0</td>\n",
       "      <td>0</td>\n",
       "      <td>6</td>\n",
       "    </tr>\n",
       "    <tr>\n",
       "      <th>2</th>\n",
       "      <td>Why the optimized prime number generator progr...</td>\n",
       "      <td>2023-05-28</td>\n",
       "      <td>\\r\\n                I recently work on the pri...</td>\n",
       "      <td>[python, time-complexity, primes]</td>\n",
       "      <td>[-2, 2, 127]</td>\n",
       "      <td>-2</td>\n",
       "      <td>2</td>\n",
       "      <td>127</td>\n",
       "    </tr>\n",
       "    <tr>\n",
       "      <th>3</th>\n",
       "      <td>How can I programmatically check if JFR is rec...</td>\n",
       "      <td>2023-05-28</td>\n",
       "      <td>\\r\\n                Java Flight Recorder provi...</td>\n",
       "      <td>[java, jfr]</td>\n",
       "      <td>[2, 1, 30]</td>\n",
       "      <td>2</td>\n",
       "      <td>1</td>\n",
       "      <td>30</td>\n",
       "    </tr>\n",
       "    <tr>\n",
       "      <th>4</th>\n",
       "      <td>Python: How to open map created with folium in...</td>\n",
       "      <td>2023-05-28</td>\n",
       "      <td>\\r\\n                I have a very small applic...</td>\n",
       "      <td>[python, python-3.x]</td>\n",
       "      <td>[2, 2, 5k]</td>\n",
       "      <td>2</td>\n",
       "      <td>2</td>\n",
       "      <td>5k</td>\n",
       "    </tr>\n",
       "    <tr>\n",
       "      <th>...</th>\n",
       "      <td>...</td>\n",
       "      <td>...</td>\n",
       "      <td>...</td>\n",
       "      <td>...</td>\n",
       "      <td>...</td>\n",
       "      <td>...</td>\n",
       "      <td>...</td>\n",
       "      <td>...</td>\n",
       "    </tr>\n",
       "    <tr>\n",
       "      <th>4181</th>\n",
       "      <td>JSESSIONID added to URL when Weblogic redirect...</td>\n",
       "      <td>2023-05-28</td>\n",
       "      <td>\\r\\n                Our application is running...</td>\n",
       "      <td>[apache, servlets, weblogic, httpsession, jses...</td>\n",
       "      <td>[0, 3, 8k]</td>\n",
       "      <td>0</td>\n",
       "      <td>3</td>\n",
       "      <td>8k</td>\n",
       "    </tr>\n",
       "    <tr>\n",
       "      <th>4182</th>\n",
       "      <td>Firebase Function throwing internal error when...</td>\n",
       "      <td>2023-05-28</td>\n",
       "      <td>\\r\\n                I work on a Unity C# app w...</td>\n",
       "      <td>[c#, node.js, firebase, unity-game-engine, goo...</td>\n",
       "      <td>[1, 1, 166]</td>\n",
       "      <td>1</td>\n",
       "      <td>1</td>\n",
       "      <td>166</td>\n",
       "    </tr>\n",
       "    <tr>\n",
       "      <th>4183</th>\n",
       "      <td>How to use Vite when developing a local packag...</td>\n",
       "      <td>2023-05-28</td>\n",
       "      <td>\\r\\n                I am developing a package ...</td>\n",
       "      <td>[laravel, vite]</td>\n",
       "      <td>[0, 0, 14]</td>\n",
       "      <td>0</td>\n",
       "      <td>0</td>\n",
       "      <td>14</td>\n",
       "    </tr>\n",
       "    <tr>\n",
       "      <th>4184</th>\n",
       "      <td>How do I increment and decrement a static vari...</td>\n",
       "      <td>2023-05-28</td>\n",
       "      <td>\\r\\n                I have an Owner class that...</td>\n",
       "      <td>[c++, constructor, destructor]</td>\n",
       "      <td>[0, 1, 57]</td>\n",
       "      <td>0</td>\n",
       "      <td>1</td>\n",
       "      <td>57</td>\n",
       "    </tr>\n",
       "    <tr>\n",
       "      <th>4185</th>\n",
       "      <td>I don't understand how to pass a link to rende...</td>\n",
       "      <td>2023-05-28</td>\n",
       "      <td>\\r\\n                this is my first time post...</td>\n",
       "      <td>[reactjs, jsx, antd, tsx, ant-design-pro]</td>\n",
       "      <td>[-1, 0, 21]</td>\n",
       "      <td>-1</td>\n",
       "      <td>0</td>\n",
       "      <td>21</td>\n",
       "    </tr>\n",
       "  </tbody>\n",
       "</table>\n",
       "<p>4186 rows × 8 columns</p>\n",
       "</div>"
      ],
      "text/plain": [
       "                                                 titulo        data  \\\n",
       "0     Is it possible to make a pixelated bitmap font...  2023-05-28   \n",
       "1     how to deal with responses containing unicode ...  2023-05-28   \n",
       "2     Why the optimized prime number generator progr...  2023-05-28   \n",
       "3     How can I programmatically check if JFR is rec...  2023-05-28   \n",
       "4     Python: How to open map created with folium in...  2023-05-28   \n",
       "...                                                 ...         ...   \n",
       "4181  JSESSIONID added to URL when Weblogic redirect...  2023-05-28   \n",
       "4182  Firebase Function throwing internal error when...  2023-05-28   \n",
       "4183  How to use Vite when developing a local packag...  2023-05-28   \n",
       "4184  How do I increment and decrement a static vari...  2023-05-28   \n",
       "4185  I don't understand how to pass a link to rende...  2023-05-28   \n",
       "\n",
       "                                            Comentarios  \\\n",
       "0     \\r\\n                I've been recently working...   \n",
       "1     \\r\\n                I have a route (\"/states\")...   \n",
       "2     \\r\\n                I recently work on the pri...   \n",
       "3     \\r\\n                Java Flight Recorder provi...   \n",
       "4     \\r\\n                I have a very small applic...   \n",
       "...                                                 ...   \n",
       "4181  \\r\\n                Our application is running...   \n",
       "4182  \\r\\n                I work on a Unity C# app w...   \n",
       "4183  \\r\\n                I am developing a package ...   \n",
       "4184  \\r\\n                I have an Owner class that...   \n",
       "4185  \\r\\n                this is my first time post...   \n",
       "\n",
       "                                                   tags  estatisticas votes  \\\n",
       "0                    [javascript, node.js, node-canvas]    [0, 1, 35]     0   \n",
       "1                   [swift, rest, get, codable, kitura]     [0, 0, 6]     0   \n",
       "2                     [python, time-complexity, primes]  [-2, 2, 127]    -2   \n",
       "3                                           [java, jfr]    [2, 1, 30]     2   \n",
       "4                                  [python, python-3.x]    [2, 2, 5k]     2   \n",
       "...                                                 ...           ...   ...   \n",
       "4181  [apache, servlets, weblogic, httpsession, jses...    [0, 3, 8k]     0   \n",
       "4182  [c#, node.js, firebase, unity-game-engine, goo...   [1, 1, 166]     1   \n",
       "4183                                    [laravel, vite]    [0, 0, 14]     0   \n",
       "4184                     [c++, constructor, destructor]    [0, 1, 57]     0   \n",
       "4185          [reactjs, jsx, antd, tsx, ant-design-pro]   [-1, 0, 21]    -1   \n",
       "\n",
       "     answers views  \n",
       "0          1    35  \n",
       "1          0     6  \n",
       "2          2   127  \n",
       "3          1    30  \n",
       "4          2    5k  \n",
       "...      ...   ...  \n",
       "4181       3    8k  \n",
       "4182       1   166  \n",
       "4183       0    14  \n",
       "4184       1    57  \n",
       "4185       0    21  \n",
       "\n",
       "[4186 rows x 8 columns]"
      ]
     },
     "execution_count": 22,
     "metadata": {},
     "output_type": "execute_result"
    }
   ],
   "source": [
    "# Separando a coluna estatisticas em 'votes', 'answers', 'views', repectivamente.\n",
    "df[['votes', 'answers', 'views']] = df['estatisticas'].apply(lambda x: pd.Series(x))\n",
    "df"
   ]
  },
  {
   "cell_type": "code",
   "execution_count": 23,
   "id": "6fe4c785",
   "metadata": {},
   "outputs": [],
   "source": [
    "# Transformando as visualizações em inteiros\n",
    "\n",
    "# Função para substituir valores em formato \"k\" por inteiros\n",
    "def substituir_valor(valor):\n",
    "    if 'k' in valor:\n",
    "        return float(valor.replace('k', '')) * 1000\n",
    "    if 'm' in valor:\n",
    "        return float(valor.replace('m', '')) * 1000000\n",
    "    else:\n",
    "        return float(valor)\n",
    "    \n",
    "# Aplicar a substituição à coluna\n",
    "df['views'] = df['views'].apply(lambda x: substituir_valor(x))"
   ]
  },
  {
   "cell_type": "markdown",
   "id": "aa69eca3",
   "metadata": {},
   "source": [
    "### DataFrame Final"
   ]
  },
  {
   "cell_type": "code",
   "execution_count": 24,
   "id": "d28626cd",
   "metadata": {},
   "outputs": [],
   "source": [
    "# Excluindo colunas que não geram mais valor para a análise\n",
    "df_clean = df.drop(columns = ['estatisticas', 'data'])"
   ]
  },
  {
   "cell_type": "code",
   "execution_count": 25,
   "id": "e9a8b7fc",
   "metadata": {
    "scrolled": false
   },
   "outputs": [
    {
     "data": {
      "text/html": [
       "<div>\n",
       "<style scoped>\n",
       "    .dataframe tbody tr th:only-of-type {\n",
       "        vertical-align: middle;\n",
       "    }\n",
       "\n",
       "    .dataframe tbody tr th {\n",
       "        vertical-align: top;\n",
       "    }\n",
       "\n",
       "    .dataframe thead th {\n",
       "        text-align: right;\n",
       "    }\n",
       "</style>\n",
       "<table border=\"1\" class=\"dataframe\">\n",
       "  <thead>\n",
       "    <tr style=\"text-align: right;\">\n",
       "      <th></th>\n",
       "      <th>titulo</th>\n",
       "      <th>Comentarios</th>\n",
       "      <th>tags</th>\n",
       "      <th>votes</th>\n",
       "      <th>answers</th>\n",
       "      <th>views</th>\n",
       "    </tr>\n",
       "  </thead>\n",
       "  <tbody>\n",
       "    <tr>\n",
       "      <th>0</th>\n",
       "      <td>Is it possible to make a pixelated bitmap font...</td>\n",
       "      <td>\\r\\n                I've been recently working...</td>\n",
       "      <td>[javascript, node.js, node-canvas]</td>\n",
       "      <td>0</td>\n",
       "      <td>1</td>\n",
       "      <td>35.0</td>\n",
       "    </tr>\n",
       "    <tr>\n",
       "      <th>1</th>\n",
       "      <td>how to deal with responses containing unicode ...</td>\n",
       "      <td>\\r\\n                I have a route (\"/states\")...</td>\n",
       "      <td>[swift, rest, get, codable, kitura]</td>\n",
       "      <td>0</td>\n",
       "      <td>0</td>\n",
       "      <td>6.0</td>\n",
       "    </tr>\n",
       "    <tr>\n",
       "      <th>2</th>\n",
       "      <td>Why the optimized prime number generator progr...</td>\n",
       "      <td>\\r\\n                I recently work on the pri...</td>\n",
       "      <td>[python, time-complexity, primes]</td>\n",
       "      <td>-2</td>\n",
       "      <td>2</td>\n",
       "      <td>127.0</td>\n",
       "    </tr>\n",
       "    <tr>\n",
       "      <th>3</th>\n",
       "      <td>How can I programmatically check if JFR is rec...</td>\n",
       "      <td>\\r\\n                Java Flight Recorder provi...</td>\n",
       "      <td>[java, jfr]</td>\n",
       "      <td>2</td>\n",
       "      <td>1</td>\n",
       "      <td>30.0</td>\n",
       "    </tr>\n",
       "    <tr>\n",
       "      <th>4</th>\n",
       "      <td>Python: How to open map created with folium in...</td>\n",
       "      <td>\\r\\n                I have a very small applic...</td>\n",
       "      <td>[python, python-3.x]</td>\n",
       "      <td>2</td>\n",
       "      <td>2</td>\n",
       "      <td>5000.0</td>\n",
       "    </tr>\n",
       "    <tr>\n",
       "      <th>...</th>\n",
       "      <td>...</td>\n",
       "      <td>...</td>\n",
       "      <td>...</td>\n",
       "      <td>...</td>\n",
       "      <td>...</td>\n",
       "      <td>...</td>\n",
       "    </tr>\n",
       "    <tr>\n",
       "      <th>4181</th>\n",
       "      <td>JSESSIONID added to URL when Weblogic redirect...</td>\n",
       "      <td>\\r\\n                Our application is running...</td>\n",
       "      <td>[apache, servlets, weblogic, httpsession, jses...</td>\n",
       "      <td>0</td>\n",
       "      <td>3</td>\n",
       "      <td>8000.0</td>\n",
       "    </tr>\n",
       "    <tr>\n",
       "      <th>4182</th>\n",
       "      <td>Firebase Function throwing internal error when...</td>\n",
       "      <td>\\r\\n                I work on a Unity C# app w...</td>\n",
       "      <td>[c#, node.js, firebase, unity-game-engine, goo...</td>\n",
       "      <td>1</td>\n",
       "      <td>1</td>\n",
       "      <td>166.0</td>\n",
       "    </tr>\n",
       "    <tr>\n",
       "      <th>4183</th>\n",
       "      <td>How to use Vite when developing a local packag...</td>\n",
       "      <td>\\r\\n                I am developing a package ...</td>\n",
       "      <td>[laravel, vite]</td>\n",
       "      <td>0</td>\n",
       "      <td>0</td>\n",
       "      <td>14.0</td>\n",
       "    </tr>\n",
       "    <tr>\n",
       "      <th>4184</th>\n",
       "      <td>How do I increment and decrement a static vari...</td>\n",
       "      <td>\\r\\n                I have an Owner class that...</td>\n",
       "      <td>[c++, constructor, destructor]</td>\n",
       "      <td>0</td>\n",
       "      <td>1</td>\n",
       "      <td>57.0</td>\n",
       "    </tr>\n",
       "    <tr>\n",
       "      <th>4185</th>\n",
       "      <td>I don't understand how to pass a link to rende...</td>\n",
       "      <td>\\r\\n                this is my first time post...</td>\n",
       "      <td>[reactjs, jsx, antd, tsx, ant-design-pro]</td>\n",
       "      <td>-1</td>\n",
       "      <td>0</td>\n",
       "      <td>21.0</td>\n",
       "    </tr>\n",
       "  </tbody>\n",
       "</table>\n",
       "<p>4186 rows × 6 columns</p>\n",
       "</div>"
      ],
      "text/plain": [
       "                                                 titulo  \\\n",
       "0     Is it possible to make a pixelated bitmap font...   \n",
       "1     how to deal with responses containing unicode ...   \n",
       "2     Why the optimized prime number generator progr...   \n",
       "3     How can I programmatically check if JFR is rec...   \n",
       "4     Python: How to open map created with folium in...   \n",
       "...                                                 ...   \n",
       "4181  JSESSIONID added to URL when Weblogic redirect...   \n",
       "4182  Firebase Function throwing internal error when...   \n",
       "4183  How to use Vite when developing a local packag...   \n",
       "4184  How do I increment and decrement a static vari...   \n",
       "4185  I don't understand how to pass a link to rende...   \n",
       "\n",
       "                                            Comentarios  \\\n",
       "0     \\r\\n                I've been recently working...   \n",
       "1     \\r\\n                I have a route (\"/states\")...   \n",
       "2     \\r\\n                I recently work on the pri...   \n",
       "3     \\r\\n                Java Flight Recorder provi...   \n",
       "4     \\r\\n                I have a very small applic...   \n",
       "...                                                 ...   \n",
       "4181  \\r\\n                Our application is running...   \n",
       "4182  \\r\\n                I work on a Unity C# app w...   \n",
       "4183  \\r\\n                I am developing a package ...   \n",
       "4184  \\r\\n                I have an Owner class that...   \n",
       "4185  \\r\\n                this is my first time post...   \n",
       "\n",
       "                                                   tags votes answers   views  \n",
       "0                    [javascript, node.js, node-canvas]     0       1    35.0  \n",
       "1                   [swift, rest, get, codable, kitura]     0       0     6.0  \n",
       "2                     [python, time-complexity, primes]    -2       2   127.0  \n",
       "3                                           [java, jfr]     2       1    30.0  \n",
       "4                                  [python, python-3.x]     2       2  5000.0  \n",
       "...                                                 ...   ...     ...     ...  \n",
       "4181  [apache, servlets, weblogic, httpsession, jses...     0       3  8000.0  \n",
       "4182  [c#, node.js, firebase, unity-game-engine, goo...     1       1   166.0  \n",
       "4183                                    [laravel, vite]     0       0    14.0  \n",
       "4184                     [c++, constructor, destructor]     0       1    57.0  \n",
       "4185          [reactjs, jsx, antd, tsx, ant-design-pro]    -1       0    21.0  \n",
       "\n",
       "[4186 rows x 6 columns]"
      ]
     },
     "execution_count": 25,
     "metadata": {},
     "output_type": "execute_result"
    }
   ],
   "source": [
    "df_clean"
   ]
  },
  {
   "cell_type": "markdown",
   "id": "1b948698",
   "metadata": {},
   "source": [
    "## 2. Análise Exploratória"
   ]
  },
  {
   "cell_type": "markdown",
   "id": "0f197726",
   "metadata": {},
   "source": [
    "### Tags com mais frequência no dia de hoje"
   ]
  },
  {
   "cell_type": "code",
   "execution_count": 26,
   "id": "c5b816f2",
   "metadata": {},
   "outputs": [],
   "source": [
    "# Função para contar a frequência dos elementos\n",
    "def contar_elementos(lista):\n",
    "    frequencia = {}\n",
    "    for sublist in lista:\n",
    "        for item in sublist:\n",
    "            if item in frequencia:\n",
    "                frequencia[item] += 1\n",
    "            else:\n",
    "                frequencia[item] = 1\n",
    "    return frequencia\n",
    "\n",
    "# Converter a coluna em uma lista\n",
    "lista = df_clean['tags'].tolist()\n",
    "\n",
    "# Contar a frequência dos elementos\n",
    "contagem = contar_elementos(lista)\n",
    "\n",
    "# Encontrar o elemento mais frequente\n",
    "elemento_mais_frequente = max(contagem, key=contagem.get)"
   ]
  },
  {
   "cell_type": "code",
   "execution_count": 27,
   "id": "bc51e062",
   "metadata": {},
   "outputs": [
    {
     "name": "stdout",
     "output_type": "stream",
     "text": [
      "O assunto mais comentado até a primeira execução deste notebook é python com uma frequência de aparecimento de 581 vezes.\n"
     ]
    }
   ],
   "source": [
    "print(f'O assunto mais comentado até a primeira execução deste notebook é {elemento_mais_frequente} com uma frequência de aparecimento de {contagem[elemento_mais_frequente]} vezes.')"
   ]
  },
  {
   "cell_type": "code",
   "execution_count": 28,
   "id": "2018edbd",
   "metadata": {},
   "outputs": [
    {
     "data": {
      "text/html": [
       "<div>\n",
       "<style scoped>\n",
       "    .dataframe tbody tr th:only-of-type {\n",
       "        vertical-align: middle;\n",
       "    }\n",
       "\n",
       "    .dataframe tbody tr th {\n",
       "        vertical-align: top;\n",
       "    }\n",
       "\n",
       "    .dataframe thead th {\n",
       "        text-align: right;\n",
       "    }\n",
       "</style>\n",
       "<table border=\"1\" class=\"dataframe\">\n",
       "  <thead>\n",
       "    <tr style=\"text-align: right;\">\n",
       "      <th></th>\n",
       "      <th>Frequência</th>\n",
       "    </tr>\n",
       "  </thead>\n",
       "  <tbody>\n",
       "    <tr>\n",
       "      <th>python</th>\n",
       "      <td>581</td>\n",
       "    </tr>\n",
       "    <tr>\n",
       "      <th>javascript</th>\n",
       "      <td>361</td>\n",
       "    </tr>\n",
       "    <tr>\n",
       "      <th>java</th>\n",
       "      <td>244</td>\n",
       "    </tr>\n",
       "    <tr>\n",
       "      <th>reactjs</th>\n",
       "      <td>223</td>\n",
       "    </tr>\n",
       "    <tr>\n",
       "      <th>android</th>\n",
       "      <td>187</td>\n",
       "    </tr>\n",
       "    <tr>\n",
       "      <th>...</th>\n",
       "      <td>...</td>\n",
       "    </tr>\n",
       "    <tr>\n",
       "      <th>normals</th>\n",
       "      <td>1</td>\n",
       "    </tr>\n",
       "    <tr>\n",
       "      <th>symbols</th>\n",
       "      <td>1</td>\n",
       "    </tr>\n",
       "    <tr>\n",
       "      <th>void</th>\n",
       "      <td>1</td>\n",
       "    </tr>\n",
       "    <tr>\n",
       "      <th>namedtuple</th>\n",
       "      <td>1</td>\n",
       "    </tr>\n",
       "    <tr>\n",
       "      <th>ant-design-pro</th>\n",
       "      <td>1</td>\n",
       "    </tr>\n",
       "  </tbody>\n",
       "</table>\n",
       "<p>3763 rows × 1 columns</p>\n",
       "</div>"
      ],
      "text/plain": [
       "                Frequência\n",
       "python                 581\n",
       "javascript             361\n",
       "java                   244\n",
       "reactjs                223\n",
       "android                187\n",
       "...                    ...\n",
       "normals                  1\n",
       "symbols                  1\n",
       "void                     1\n",
       "namedtuple               1\n",
       "ant-design-pro           1\n",
       "\n",
       "[3763 rows x 1 columns]"
      ]
     },
     "execution_count": 28,
     "metadata": {},
     "output_type": "execute_result"
    }
   ],
   "source": [
    "df_1 = pd.DataFrame.from_dict(contagem, orient='index', columns=['Frequência']).sort_values(by='Frequência', ascending=False)\n",
    "df_1"
   ]
  },
  {
   "cell_type": "code",
   "execution_count": 29,
   "id": "5772144c",
   "metadata": {},
   "outputs": [
    {
     "data": {
      "image/png": "[encoded data removed]",
      "text/plain": [
       "<Figure size 720x432 with 1 Axes>"
      ]
     },
     "metadata": {
      "needs_background": "light"
     },
     "output_type": "display_data"
    }
   ],
   "source": [
    "# Configurar o estilo do Seaborn\n",
    "sns.set(style=\"whitegrid\")\n",
    "\n",
    "# Criar o gráfico de barras horizontais\n",
    "plt.figure(figsize=(10, 6))\n",
    "sns.barplot(x='Frequência', y=df_1.head(5).index, data=df_1.head(5), color='skyblue')\n",
    "\n",
    "# Adicionar rótulos aos eixos\n",
    "plt.xlabel('Frêquencia')\n",
    "plt.ylabel('Tags')\n",
    "\n",
    "# Adicionar título ao gráfico\n",
    "plt.title('Tags com mais frequências')\n",
    "\n",
    "# Exibir o gráfico\n",
    "plt.show()"
   ]
  },
  {
   "cell_type": "markdown",
   "id": "fd94a5c0",
   "metadata": {},
   "source": [
    "### Tags com mais answers no dia de hoje"
   ]
  },
  {
   "cell_type": "markdown",
   "id": "e7330d1f",
   "metadata": {},
   "source": [
    "Neste trecho de código é possível analisar quais tags possuem mais respostas dos usuários. Observe por exemplo que se python aparece em duas linhas do dataframe, os itens correspondentes da coluna de answers, vão ser somados."
   ]
  },
  {
   "cell_type": "code",
   "execution_count": 30,
   "id": "d548f606",
   "metadata": {},
   "outputs": [],
   "source": [
    "# Função para contar a frequência dos elementos e somar os inteiros correspondentes\n",
    "def contar_elementos_e_respostas(lista, coluna):\n",
    "    frequencia = {}\n",
    "    soma_total = {}\n",
    "    for sublist, valor in zip(lista, coluna):\n",
    "        for item in sublist:\n",
    "            if item in frequencia:\n",
    "                frequencia[item] += 1\n",
    "                soma_total[item] += int(valor)\n",
    "            else:\n",
    "                frequencia[item] = 1\n",
    "                soma_total[item] = int(valor)\n",
    "    resultado = {item: [frequencia[item], soma_total[item]] for item in frequencia}\n",
    "    return resultado\n",
    "\n",
    "# Converter as colunas em listas\n",
    "lista1 = df_clean['tags'].tolist()\n",
    "lista2 = df_clean['answers'].tolist()\n",
    "\n",
    "# Contar a frequência dos elementos e somar os inteiros correspondentes\n",
    "resultado = contar_elementos_e_respostas(lista1, lista2)"
   ]
  },
  {
   "cell_type": "code",
   "execution_count": 31,
   "id": "6b7ac748",
   "metadata": {},
   "outputs": [
    {
     "data": {
      "text/html": [
       "<div>\n",
       "<style scoped>\n",
       "    .dataframe tbody tr th:only-of-type {\n",
       "        vertical-align: middle;\n",
       "    }\n",
       "\n",
       "    .dataframe tbody tr th {\n",
       "        vertical-align: top;\n",
       "    }\n",
       "\n",
       "    .dataframe thead th {\n",
       "        text-align: right;\n",
       "    }\n",
       "</style>\n",
       "<table border=\"1\" class=\"dataframe\">\n",
       "  <thead>\n",
       "    <tr style=\"text-align: right;\">\n",
       "      <th></th>\n",
       "      <th>Frequência</th>\n",
       "      <th>Respostas</th>\n",
       "    </tr>\n",
       "  </thead>\n",
       "  <tbody>\n",
       "    <tr>\n",
       "      <th>python</th>\n",
       "      <td>581</td>\n",
       "      <td>838</td>\n",
       "    </tr>\n",
       "    <tr>\n",
       "      <th>javascript</th>\n",
       "      <td>361</td>\n",
       "      <td>685</td>\n",
       "    </tr>\n",
       "    <tr>\n",
       "      <th>android</th>\n",
       "      <td>187</td>\n",
       "      <td>375</td>\n",
       "    </tr>\n",
       "    <tr>\n",
       "      <th>php</th>\n",
       "      <td>137</td>\n",
       "      <td>356</td>\n",
       "    </tr>\n",
       "    <tr>\n",
       "      <th>java</th>\n",
       "      <td>244</td>\n",
       "      <td>351</td>\n",
       "    </tr>\n",
       "    <tr>\n",
       "      <th>...</th>\n",
       "      <td>...</td>\n",
       "      <td>...</td>\n",
       "    </tr>\n",
       "    <tr>\n",
       "      <th>serilog</th>\n",
       "      <td>4</td>\n",
       "      <td>0</td>\n",
       "    </tr>\n",
       "    <tr>\n",
       "      <th>react-native-twitter-signin</th>\n",
       "      <td>1</td>\n",
       "      <td>0</td>\n",
       "    </tr>\n",
       "    <tr>\n",
       "      <th>sage</th>\n",
       "      <td>1</td>\n",
       "      <td>0</td>\n",
       "    </tr>\n",
       "    <tr>\n",
       "      <th>reply</th>\n",
       "      <td>1</td>\n",
       "      <td>0</td>\n",
       "    </tr>\n",
       "    <tr>\n",
       "      <th>ant-design-pro</th>\n",
       "      <td>1</td>\n",
       "      <td>0</td>\n",
       "    </tr>\n",
       "  </tbody>\n",
       "</table>\n",
       "<p>3763 rows × 2 columns</p>\n",
       "</div>"
      ],
      "text/plain": [
       "                             Frequência  Respostas\n",
       "python                              581        838\n",
       "javascript                          361        685\n",
       "android                             187        375\n",
       "php                                 137        356\n",
       "java                                244        351\n",
       "...                                 ...        ...\n",
       "serilog                               4          0\n",
       "react-native-twitter-signin           1          0\n",
       "sage                                  1          0\n",
       "reply                                 1          0\n",
       "ant-design-pro                        1          0\n",
       "\n",
       "[3763 rows x 2 columns]"
      ]
     },
     "execution_count": 31,
     "metadata": {},
     "output_type": "execute_result"
    }
   ],
   "source": [
    "df_2 = pd.DataFrame.from_dict(resultado, orient='index', columns=['Frequência', 'Respostas']).sort_values(by='Respostas', ascending=False)\n",
    "df_2"
   ]
  },
  {
   "cell_type": "code",
   "execution_count": 32,
   "id": "9e346f29",
   "metadata": {},
   "outputs": [
    {
     "data": {
      "image/png": "[encoded data removed]",
      "text/plain": [
       "<Figure size 720x432 with 1 Axes>"
      ]
     },
     "metadata": {},
     "output_type": "display_data"
    }
   ],
   "source": [
    "# Configurar o estilo do Seaborn\n",
    "sns.set(style=\"whitegrid\")\n",
    "\n",
    "# Criar o gráfico de barras horizontais\n",
    "plt.figure(figsize=(10, 6))\n",
    "sns.barplot(x='Respostas', y=df_2.head(5).index, data=df_2.head(5), color='skyblue')\n",
    "\n",
    "# Adicionar rótulos aos eixos\n",
    "plt.xlabel('Quantidade de Respostas')\n",
    "plt.ylabel('Tags')\n",
    "\n",
    "# Adicionar título ao gráfico\n",
    "plt.title('Tags mais Respondidas')\n",
    "\n",
    "# Exibir o gráfico\n",
    "plt.show()"
   ]
  },
  {
   "cell_type": "markdown",
   "id": "24563a3c",
   "metadata": {},
   "source": [
    "A partir da tabela acima podemos fazer a seguinte pergunta: **Tags com muita frequência, consequentemente, tem mais respostas?** \n"
   ]
  },
  {
   "cell_type": "markdown",
   "id": "e2224d53",
   "metadata": {},
   "source": [
    "### Tags com mais visualizações no dia de hoje"
   ]
  },
  {
   "cell_type": "code",
   "execution_count": 33,
   "id": "25597931",
   "metadata": {},
   "outputs": [
    {
     "data": {
      "text/html": [
       "<div>\n",
       "<style scoped>\n",
       "    .dataframe tbody tr th:only-of-type {\n",
       "        vertical-align: middle;\n",
       "    }\n",
       "\n",
       "    .dataframe tbody tr th {\n",
       "        vertical-align: top;\n",
       "    }\n",
       "\n",
       "    .dataframe thead th {\n",
       "        text-align: right;\n",
       "    }\n",
       "</style>\n",
       "<table border=\"1\" class=\"dataframe\">\n",
       "  <thead>\n",
       "    <tr style=\"text-align: right;\">\n",
       "      <th></th>\n",
       "      <th>Frequência</th>\n",
       "      <th>Views</th>\n",
       "    </tr>\n",
       "  </thead>\n",
       "  <tbody>\n",
       "    <tr>\n",
       "      <th>javascript</th>\n",
       "      <td>361</td>\n",
       "      <td>9100804</td>\n",
       "    </tr>\n",
       "    <tr>\n",
       "      <th>python</th>\n",
       "      <td>581</td>\n",
       "      <td>7190657</td>\n",
       "    </tr>\n",
       "    <tr>\n",
       "      <th>php</th>\n",
       "      <td>137</td>\n",
       "      <td>5441022</td>\n",
       "    </tr>\n",
       "    <tr>\n",
       "      <th>html</th>\n",
       "      <td>157</td>\n",
       "      <td>5374341</td>\n",
       "    </tr>\n",
       "    <tr>\n",
       "      <th>java</th>\n",
       "      <td>244</td>\n",
       "      <td>3020110</td>\n",
       "    </tr>\n",
       "    <tr>\n",
       "      <th>...</th>\n",
       "      <td>...</td>\n",
       "      <td>...</td>\n",
       "    </tr>\n",
       "    <tr>\n",
       "      <th>scilab</th>\n",
       "      <td>1</td>\n",
       "      <td>3</td>\n",
       "    </tr>\n",
       "    <tr>\n",
       "      <th>netrw</th>\n",
       "      <td>1</td>\n",
       "      <td>2</td>\n",
       "    </tr>\n",
       "    <tr>\n",
       "      <th>aws-security-group</th>\n",
       "      <td>1</td>\n",
       "      <td>2</td>\n",
       "    </tr>\n",
       "    <tr>\n",
       "      <th>amazon-sagemaker</th>\n",
       "      <td>1</td>\n",
       "      <td>2</td>\n",
       "    </tr>\n",
       "    <tr>\n",
       "      <th>druid</th>\n",
       "      <td>1</td>\n",
       "      <td>2</td>\n",
       "    </tr>\n",
       "  </tbody>\n",
       "</table>\n",
       "<p>3763 rows × 2 columns</p>\n",
       "</div>"
      ],
      "text/plain": [
       "                    Frequência    Views\n",
       "javascript                 361  9100804\n",
       "python                     581  7190657\n",
       "php                        137  5441022\n",
       "html                       157  5374341\n",
       "java                       244  3020110\n",
       "...                        ...      ...\n",
       "scilab                       1        3\n",
       "netrw                        1        2\n",
       "aws-security-group           1        2\n",
       "amazon-sagemaker             1        2\n",
       "druid                        1        2\n",
       "\n",
       "[3763 rows x 2 columns]"
      ]
     },
     "execution_count": 33,
     "metadata": {},
     "output_type": "execute_result"
    }
   ],
   "source": [
    "# Converter as colunas em listas\n",
    "lista1 = df_clean['tags'].tolist()\n",
    "lista2 = df_clean['views'].tolist()\n",
    "\n",
    "# Contar a frequência dos elementos e somar os inteiros correspondentes\n",
    "resultado = contar_elementos_e_respostas(lista1, lista2)\n",
    "df_3 = pd.DataFrame.from_dict(resultado, orient='index', columns=['Frequência', 'Views']).sort_values(by='Views', ascending=False)\n",
    "df_3"
   ]
  },
  {
   "cell_type": "code",
   "execution_count": 34,
   "id": "05daa9e8",
   "metadata": {},
   "outputs": [
    {
     "data": {
      "image/png": "[encoded data removed]",
      "text/plain": [
       "<Figure size 720x432 with 1 Axes>"
      ]
     },
     "metadata": {},
     "output_type": "display_data"
    }
   ],
   "source": [
    "# Configurar o estilo do Seaborn\n",
    "sns.set(style=\"whitegrid\")\n",
    "\n",
    "# Criar o gráfico de barras horizontais\n",
    "plt.figure(figsize=(10, 6))\n",
    "sns.barplot(x='Views', y=df_3.head(5).index, data=df_3.head(5), color='skyblue')\n",
    "\n",
    "# Adicionar rótulos aos eixos\n",
    "plt.xlabel('Quantidade de Visualizações')\n",
    "plt.ylabel('Tags')\n",
    "\n",
    "# Adicionar título ao gráfico\n",
    "plt.title('Tags mais Visualizadas')\n",
    "\n",
    "# Exibir o gráfico\n",
    "plt.show()"
   ]
  },
  {
   "cell_type": "markdown",
   "id": "6295711b",
   "metadata": {},
   "source": [
    "### Tags com mais votos no dia de hoje"
   ]
  },
  {
   "cell_type": "code",
   "execution_count": 35,
   "id": "4ebd03ec",
   "metadata": {},
   "outputs": [
    {
     "data": {
      "text/html": [
       "<div>\n",
       "<style scoped>\n",
       "    .dataframe tbody tr th:only-of-type {\n",
       "        vertical-align: middle;\n",
       "    }\n",
       "\n",
       "    .dataframe tbody tr th {\n",
       "        vertical-align: top;\n",
       "    }\n",
       "\n",
       "    .dataframe thead th {\n",
       "        text-align: right;\n",
       "    }\n",
       "</style>\n",
       "<table border=\"1\" class=\"dataframe\">\n",
       "  <thead>\n",
       "    <tr style=\"text-align: right;\">\n",
       "      <th></th>\n",
       "      <th>Frequência</th>\n",
       "      <th>Votes</th>\n",
       "    </tr>\n",
       "  </thead>\n",
       "  <tbody>\n",
       "    <tr>\n",
       "      <th>javascript</th>\n",
       "      <td>361</td>\n",
       "      <td>9334</td>\n",
       "    </tr>\n",
       "    <tr>\n",
       "      <th>html</th>\n",
       "      <td>157</td>\n",
       "      <td>7370</td>\n",
       "    </tr>\n",
       "    <tr>\n",
       "      <th>optimization</th>\n",
       "      <td>6</td>\n",
       "      <td>4452</td>\n",
       "    </tr>\n",
       "    <tr>\n",
       "      <th>href</th>\n",
       "      <td>1</td>\n",
       "      <td>4394</td>\n",
       "    </tr>\n",
       "    <tr>\n",
       "      <th>performance</th>\n",
       "      <td>12</td>\n",
       "      <td>4394</td>\n",
       "    </tr>\n",
       "    <tr>\n",
       "      <th>...</th>\n",
       "      <td>...</td>\n",
       "      <td>...</td>\n",
       "    </tr>\n",
       "    <tr>\n",
       "      <th>api</th>\n",
       "      <td>33</td>\n",
       "      <td>-17</td>\n",
       "    </tr>\n",
       "    <tr>\n",
       "      <th>openai-api</th>\n",
       "      <td>17</td>\n",
       "      <td>-17</td>\n",
       "    </tr>\n",
       "    <tr>\n",
       "      <th>formatting</th>\n",
       "      <td>2</td>\n",
       "      <td>-21</td>\n",
       "    </tr>\n",
       "    <tr>\n",
       "      <th>raw-data</th>\n",
       "      <td>1</td>\n",
       "      <td>-21</td>\n",
       "    </tr>\n",
       "    <tr>\n",
       "      <th>3d</th>\n",
       "      <td>6</td>\n",
       "      <td>-23</td>\n",
       "    </tr>\n",
       "  </tbody>\n",
       "</table>\n",
       "<p>3763 rows × 2 columns</p>\n",
       "</div>"
      ],
      "text/plain": [
       "              Frequência  Votes\n",
       "javascript           361   9334\n",
       "html                 157   7370\n",
       "optimization           6   4452\n",
       "href                   1   4394\n",
       "performance           12   4394\n",
       "...                  ...    ...\n",
       "api                   33    -17\n",
       "openai-api            17    -17\n",
       "formatting             2    -21\n",
       "raw-data               1    -21\n",
       "3d                     6    -23\n",
       "\n",
       "[3763 rows x 2 columns]"
      ]
     },
     "execution_count": 35,
     "metadata": {},
     "output_type": "execute_result"
    }
   ],
   "source": [
    "# Converter as colunas em listas\n",
    "lista1 = df_clean['tags'].tolist()\n",
    "lista2 = df_clean['votes'].tolist()\n",
    "\n",
    "# Contar a frequência dos elementos e somar os inteiros correspondentes\n",
    "resultado = contar_elementos_e_respostas(lista1, lista2)\n",
    "df_4 = pd.DataFrame.from_dict(resultado, orient='index', columns=['Frequência', 'Votes']).sort_values(by='Votes', ascending=False)\n",
    "df_4"
   ]
  },
  {
   "cell_type": "code",
   "execution_count": 36,
   "id": "0826dd44",
   "metadata": {},
   "outputs": [
    {
     "data": {
      "image/png": "[encoded data removed]",
      "text/plain": [
       "<Figure size 720x432 with 1 Axes>"
      ]
     },
     "metadata": {},
     "output_type": "display_data"
    }
   ],
   "source": [
    "# Configurar o estilo do Seaborn\n",
    "sns.set(style=\"whitegrid\")\n",
    "\n",
    "# Criar o gráfico de barras horizontais\n",
    "plt.figure(figsize=(10, 6))\n",
    "sns.barplot(x='Votes', y=df_4.head(5).index, data=df_4.head(5), color='skyblue')\n",
    "\n",
    "# Adicionar rótulos aos eixos\n",
    "plt.xlabel('Quantidade de Votos')\n",
    "plt.ylabel('Tags')\n",
    "\n",
    "# Adicionar título ao gráfico\n",
    "plt.title('Tags mais Votadas')\n",
    "\n",
    "# Exibir o gráfico\n",
    "plt.show()"
   ]
  },
  {
   "cell_type": "markdown",
   "id": "9735b75b",
   "metadata": {},
   "source": [
    "## 3. NLP"
   ]
  },
  {
   "cell_type": "markdown",
   "id": "345a896c",
   "metadata": {},
   "source": [
    "Ao extrair dados do Stack Overflow usando técnicas de Processamento de Linguagem Natural (NLP), você pode usar algoritmos e modelos de aprendizado de máquina para analisar os títulos das perguntas e determinar as maiores chances de pertencerem a um determinado tópico.\n",
    "\n",
    "Usando técnicas de classificação de texto, você pode treinar um modelo para identificar padrões e características nos títulos das perguntas que estão associados a tópicos específicos. O modelo pode aprender com um conjunto de dados de treinamento, onde cada título de pergunta é rotulado com o tópico correspondente.\n",
    "\n",
    "Ao avaliar um novo título de pergunta com seu modelo treinado, ele será capaz de atribuir probabilidades às diferentes classes de tópicos. Com base nessas probabilidades, você pode identificar o tópico com a maior chance de ser o correto para aquele título de pergunta.\n",
    "\n",
    "Essa abordagem permite que você automatize a categorização de tópicos para as perguntas do Stack Overflow, facilitando a organização e a análise dos dados de acordo com os diferentes assuntos de interesse. Isso pode ser útil para diversas aplicações, como recomendação de conteúdo relevante, identificação de tendências ou até mesmo para melhorar a pesquisa e navegação no site."
   ]
  },
  {
   "cell_type": "code",
   "execution_count": 38,
   "id": "33a6289c",
   "metadata": {},
   "outputs": [
    {
     "name": "stderr",
     "output_type": "stream",
     "text": [
      "C:\\Users\\ricar\\Anaconda3\\lib\\site-packages\\paramiko\\transport.py:219: CryptographyDeprecationWarning: Blowfish has been deprecated\n",
      "  \"class\": algorithms.Blowfish,\n",
      "[nltk_data] Downloading package punkt to\n",
      "[nltk_data]     C:\\Users\\ricar\\AppData\\Roaming\\nltk_data...\n",
      "[nltk_data]   Package punkt is already up-to-date!\n",
      "[nltk_data] Downloading package stopwords to\n",
      "[nltk_data]     C:\\Users\\ricar\\AppData\\Roaming\\nltk_data...\n",
      "[nltk_data]   Package stopwords is already up-to-date!\n"
     ]
    }
   ],
   "source": [
    "# para trabalhar com diretórios / sistema operacional\n",
    "import os\n",
    "\n",
    "# para trabalhar com expressões regulares\n",
    "import re\n",
    "\n",
    "# utilizada para nos indicar o caminho do executável do Python\n",
    "import sys\n",
    "\n",
    "# para pandas DataFrame\n",
    "import pandas as pd\n",
    "\n",
    "# topic Modeling\n",
    "import gensim\n",
    "from gensim import corpora\n",
    "from gensim import models\n",
    "\n",
    "import nltk\n",
    "nltk.download('punkt')\n",
    "nltk.download('stopwords')\n",
    "from nltk.tokenize import word_tokenize\n",
    "from nltk.corpus import stopwords\n",
    "from nltk.stem.snowball import SnowballStemmer\n",
    "\n",
    "# plot\n",
    "from plotly.subplots import make_subplots\n",
    "import plotly.graph_objects as go\n",
    "import plotly.express as px\n",
    "from unicodedata import normalize\n",
    "import string"
   ]
  },
  {
   "cell_type": "code",
   "execution_count": 52,
   "id": "bd3dda24",
   "metadata": {},
   "outputs": [
    {
     "data": {
      "text/plain": [
       "['hey', 'vamos', 'aprender', 'nlp', 'eu', 'estudo', 'vezes', 'na', 'semana']"
      ]
     },
     "execution_count": 52,
     "metadata": {},
     "output_type": "execute_result"
    }
   ],
   "source": [
    "def preproc_texto(txt):\n",
    "    # Remove caracteres numéricos\n",
    "    txt = re.sub(r'\\d+', '', txt)\n",
    "    \n",
    "    # Remove acentuação e pontuacao\n",
    "    txt = normalize('NFKD', txt).encode('ASCII', 'ignore').decode('utf-8')\n",
    "    txt = re.sub('['+string.punctuation+']', '', txt)\n",
    "    \n",
    "    # Transforma tudo para minúsculo\n",
    "    txt = txt.lower()\n",
    "    \n",
    "    # Remove stopwords\n",
    "    stop_words = set(stopwords.words('english'))\n",
    "    palavras_desconsideradas = stop_words.union(['to', 'in', 'the', 'not', 'how', 'and', 'on', 'is', 'i', 'can'])\n",
    "    tokens = word_tokenize(txt)\n",
    "    tokens = [token for token in tokens if token not in palavras_desconsideradas]\n",
    "    \n",
    "    # Retorna a lista de palavras\n",
    "    return tokens\n",
    "\n",
    "# Resultado esperado ['hey', 'vamos', 'aprender', 'nlp', 'estudo', 'vezes', 'semana']\n",
    "preproc_texto('Hey, vamos aprender NLP??? Eu estudo 3 vezes na semana.')"
   ]
  },
  {
   "cell_type": "code",
   "execution_count": 53,
   "id": "4a047f43",
   "metadata": {},
   "outputs": [],
   "source": [
    "df_clean['Titulo_preproc'] = df_clean['titulo'].apply(preproc_texto)"
   ]
  },
  {
   "cell_type": "code",
   "execution_count": 54,
   "id": "b5a6dee4",
   "metadata": {},
   "outputs": [],
   "source": [
    "token_texto=df_clean['Titulo_preproc']\n",
    "dic = corpora.Dictionary(token_texto)\n",
    "corpus = [dic.doc2bow(token) for token in token_texto]"
   ]
  },
  {
   "cell_type": "code",
   "execution_count": 55,
   "id": "52e3d499",
   "metadata": {},
   "outputs": [
    {
     "name": "stdout",
     "output_type": "stream",
     "text": [
      "(0, '0.011*\"error\" + 0.010*\"using\" + 0.010*\"closed\"')\n",
      "(1, '0.015*\"using\" + 0.013*\"python\" + 0.010*\"function\"')\n"
     ]
    }
   ],
   "source": [
    "lda = models.ldamodel.LdaModel(corpus, num_topics=2, id2word=dic, passes=5, iterations=100)\n",
    "\n",
    "lista_topico = lda.print_topics(num_words=3)\n",
    "\n",
    "for topico in lista_topico:\n",
    "    print(topico)"
   ]
  },
  {
   "cell_type": "code",
   "execution_count": 56,
   "id": "a60e1450",
   "metadata": {},
   "outputs": [
    {
     "data": {
      "application/vnd.plotly.v1+json": {
       "config": {
        "plotlyServerURL": "https://plot.ly"
       },
       "data": [
        {
         "marker": {
          "color": [
           0.010547692887485027,
           0.010013993829488754,
           0.00962337851524353,
           0.008545049466192722,
           0.007962381467223167,
           0.0069287968799471855,
           0.005335681606084108,
           0.0045856088399887085,
           0.004252792336046696,
           0.004069036804139614
          ],
          "coloraxis": "coloraxis"
         },
         "type": "bar",
         "x": [
          "error",
          "using",
          "closed",
          "file",
          "use",
          "api",
          "app",
          "flutter",
          "files",
          "multiple"
         ],
         "xaxis": "x",
         "y": [
          0.010547692887485027,
          0.010013993829488754,
          0.00962337851524353,
          0.008545049466192722,
          0.007962381467223167,
          0.0069287968799471855,
          0.005335681606084108,
          0.0045856088399887085,
          0.004252792336046696,
          0.004069036804139614
         ],
         "yaxis": "y"
        },
        {
         "marker": {
          "color": [
           0.015481637790799141,
           0.01279163733124733,
           0.009853508323431015,
           0.007666179910302162,
           0.007073529995977879,
           0.0070725614205002785,
           0.006867299322038889,
           0.006025427021086216,
           0.005843265913426876,
           0.004995262715965509
          ],
          "coloraxis": "coloraxis"
         },
         "type": "bar",
         "x": [
          "using",
          "python",
          "function",
          "data",
          "error",
          "code",
          "closed",
          "duplicate",
          "working",
          "get"
         ],
         "xaxis": "x2",
         "y": [
          0.015481637790799141,
          0.01279163733124733,
          0.009853508323431015,
          0.007666179910302162,
          0.007073529995977879,
          0.0070725614205002785,
          0.006867299322038889,
          0.006025427021086216,
          0.005843265913426876,
          0.004995262715965509
         ],
         "yaxis": "y2"
        }
       ],
       "layout": {
        "annotations": [
         {
          "font": {
           "size": 16
          },
          "showarrow": false,
          "text": "Tópico 1",
          "x": 0.225,
          "xanchor": "center",
          "xref": "paper",
          "y": 1,
          "yanchor": "bottom",
          "yref": "paper"
         },
         {
          "font": {
           "size": 16
          },
          "showarrow": false,
          "text": "Tópico 2",
          "x": 0.775,
          "xanchor": "center",
          "xref": "paper",
          "y": 1,
          "yanchor": "bottom",
          "yref": "paper"
         }
        ],
        "coloraxis": {
         "colorscale": [
          [
           0,
           "rgb(255,0,0)"
          ],
          [
           1,
           "rgb(0,0,255)"
          ]
         ]
        },
        "showlegend": false,
        "template": {
         "data": {
          "bar": [
           {
            "error_x": {
             "color": "#2a3f5f"
            },
            "error_y": {
             "color": "#2a3f5f"
            },
            "marker": {
             "line": {
              "color": "#E5ECF6",
              "width": 0.5
             },
             "pattern": {
              "fillmode": "overlay",
              "size": 10,
              "solidity": 0.2
             }
            },
            "type": "bar"
           }
          ],
          "barpolar": [
           {
            "marker": {
             "line": {
              "color": "#E5ECF6",
              "width": 0.5
             },
             "pattern": {
              "fillmode": "overlay",
              "size": 10,
              "solidity": 0.2
             }
            },
            "type": "barpolar"
           }
          ],
          "carpet": [
           {
            "aaxis": {
             "endlinecolor": "#2a3f5f",
             "gridcolor": "white",
             "linecolor": "white",
             "minorgridcolor": "white",
             "startlinecolor": "#2a3f5f"
            },
            "baxis": {
             "endlinecolor": "#2a3f5f",
             "gridcolor": "white",
             "linecolor": "white",
             "minorgridcolor": "white",
             "startlinecolor": "#2a3f5f"
            },
            "type": "carpet"
           }
          ],
          "choropleth": [
           {
            "colorbar": {
             "outlinewidth": 0,
             "ticks": ""
            },
            "type": "choropleth"
           }
          ],
          "contour": [
           {
            "colorbar": {
             "outlinewidth": 0,
             "ticks": ""
            },
            "colorscale": [
             [
              0,
              "#0d0887"
             ],
             [
              0.1111111111111111,
              "#46039f"
             ],
             [
              0.2222222222222222,
              "#7201a8"
             ],
             [
              0.3333333333333333,
              "#9c179e"
             ],
             [
              0.4444444444444444,
              "#bd3786"
             ],
             [
              0.5555555555555556,
              "#d8576b"
             ],
             [
              0.6666666666666666,
              "#ed7953"
             ],
             [
              0.7777777777777778,
              "#fb9f3a"
             ],
             [
              0.8888888888888888,
              "#fdca26"
             ],
             [
              1,
              "#f0f921"
             ]
            ],
            "type": "contour"
           }
          ],
          "contourcarpet": [
           {
            "colorbar": {
             "outlinewidth": 0,
             "ticks": ""
            },
            "type": "contourcarpet"
           }
          ],
          "heatmap": [
           {
            "colorbar": {
             "outlinewidth": 0,
             "ticks": ""
            },
            "colorscale": [
             [
              0,
              "#0d0887"
             ],
             [
              0.1111111111111111,
              "#46039f"
             ],
             [
              0.2222222222222222,
              "#7201a8"
             ],
             [
              0.3333333333333333,
              "#9c179e"
             ],
             [
              0.4444444444444444,
              "#bd3786"
             ],
             [
              0.5555555555555556,
              "#d8576b"
             ],
             [
              0.6666666666666666,
              "#ed7953"
             ],
             [
              0.7777777777777778,
              "#fb9f3a"
             ],
             [
              0.8888888888888888,
              "#fdca26"
             ],
             [
              1,
              "#f0f921"
             ]
            ],
            "type": "heatmap"
           }
          ],
          "heatmapgl": [
           {
            "colorbar": {
             "outlinewidth": 0,
             "ticks": ""
            },
            "colorscale": [
             [
              0,
              "#0d0887"
             ],
             [
              0.1111111111111111,
              "#46039f"
             ],
             [
              0.2222222222222222,
              "#7201a8"
             ],
             [
              0.3333333333333333,
              "#9c179e"
             ],
             [
              0.4444444444444444,
              "#bd3786"
             ],
             [
              0.5555555555555556,
              "#d8576b"
             ],
             [
              0.6666666666666666,
              "#ed7953"
             ],
             [
              0.7777777777777778,
              "#fb9f3a"
             ],
             [
              0.8888888888888888,
              "#fdca26"
             ],
             [
              1,
              "#f0f921"
             ]
            ],
            "type": "heatmapgl"
           }
          ],
          "histogram": [
           {
            "marker": {
             "pattern": {
              "fillmode": "overlay",
              "size": 10,
              "solidity": 0.2
             }
            },
            "type": "histogram"
           }
          ],
          "histogram2d": [
           {
            "colorbar": {
             "outlinewidth": 0,
             "ticks": ""
            },
            "colorscale": [
             [
              0,
              "#0d0887"
             ],
             [
              0.1111111111111111,
              "#46039f"
             ],
             [
              0.2222222222222222,
              "#7201a8"
             ],
             [
              0.3333333333333333,
              "#9c179e"
             ],
             [
              0.4444444444444444,
              "#bd3786"
             ],
             [
              0.5555555555555556,
              "#d8576b"
             ],
             [
              0.6666666666666666,
              "#ed7953"
             ],
             [
              0.7777777777777778,
              "#fb9f3a"
             ],
             [
              0.8888888888888888,
              "#fdca26"
             ],
             [
              1,
              "#f0f921"
             ]
            ],
            "type": "histogram2d"
           }
          ],
          "histogram2dcontour": [
           {
            "colorbar": {
             "outlinewidth": 0,
             "ticks": ""
            },
            "colorscale": [
             [
              0,
              "#0d0887"
             ],
             [
              0.1111111111111111,
              "#46039f"
             ],
             [
              0.2222222222222222,
              "#7201a8"
             ],
             [
              0.3333333333333333,
              "#9c179e"
             ],
             [
              0.4444444444444444,
              "#bd3786"
             ],
             [
              0.5555555555555556,
              "#d8576b"
             ],
             [
              0.6666666666666666,
              "#ed7953"
             ],
             [
              0.7777777777777778,
              "#fb9f3a"
             ],
             [
              0.8888888888888888,
              "#fdca26"
             ],
             [
              1,
              "#f0f921"
             ]
            ],
            "type": "histogram2dcontour"
           }
          ],
          "mesh3d": [
           {
            "colorbar": {
             "outlinewidth": 0,
             "ticks": ""
            },
            "type": "mesh3d"
           }
          ],
          "parcoords": [
           {
            "line": {
             "colorbar": {
              "outlinewidth": 0,
              "ticks": ""
             }
            },
            "type": "parcoords"
           }
          ],
          "pie": [
           {
            "automargin": true,
            "type": "pie"
           }
          ],
          "scatter": [
           {
            "fillpattern": {
             "fillmode": "overlay",
             "size": 10,
             "solidity": 0.2
            },
            "type": "scatter"
           }
          ],
          "scatter3d": [
           {
            "line": {
             "colorbar": {
              "outlinewidth": 0,
              "ticks": ""
             }
            },
            "marker": {
             "colorbar": {
              "outlinewidth": 0,
              "ticks": ""
             }
            },
            "type": "scatter3d"
           }
          ],
          "scattercarpet": [
           {
            "marker": {
             "colorbar": {
              "outlinewidth": 0,
              "ticks": ""
             }
            },
            "type": "scattercarpet"
           }
          ],
          "scattergeo": [
           {
            "marker": {
             "colorbar": {
              "outlinewidth": 0,
              "ticks": ""
             }
            },
            "type": "scattergeo"
           }
          ],
          "scattergl": [
           {
            "marker": {
             "colorbar": {
              "outlinewidth": 0,
              "ticks": ""
             }
            },
            "type": "scattergl"
           }
          ],
          "scattermapbox": [
           {
            "marker": {
             "colorbar": {
              "outlinewidth": 0,
              "ticks": ""
             }
            },
            "type": "scattermapbox"
           }
          ],
          "scatterpolar": [
           {
            "marker": {
             "colorbar": {
              "outlinewidth": 0,
              "ticks": ""
             }
            },
            "type": "scatterpolar"
           }
          ],
          "scatterpolargl": [
           {
            "marker": {
             "colorbar": {
              "outlinewidth": 0,
              "ticks": ""
             }
            },
            "type": "scatterpolargl"
           }
          ],
          "scatterternary": [
           {
            "marker": {
             "colorbar": {
              "outlinewidth": 0,
              "ticks": ""
             }
            },
            "type": "scatterternary"
           }
          ],
          "surface": [
           {
            "colorbar": {
             "outlinewidth": 0,
             "ticks": ""
            },
            "colorscale": [
             [
              0,
              "#0d0887"
             ],
             [
              0.1111111111111111,
              "#46039f"
             ],
             [
              0.2222222222222222,
              "#7201a8"
             ],
             [
              0.3333333333333333,
              "#9c179e"
             ],
             [
              0.4444444444444444,
              "#bd3786"
             ],
             [
              0.5555555555555556,
              "#d8576b"
             ],
             [
              0.6666666666666666,
              "#ed7953"
             ],
             [
              0.7777777777777778,
              "#fb9f3a"
             ],
             [
              0.8888888888888888,
              "#fdca26"
             ],
             [
              1,
              "#f0f921"
             ]
            ],
            "type": "surface"
           }
          ],
          "table": [
           {
            "cells": {
             "fill": {
              "color": "#EBF0F8"
             },
             "line": {
              "color": "white"
             }
            },
            "header": {
             "fill": {
              "color": "#C8D4E3"
             },
             "line": {
              "color": "white"
             }
            },
            "type": "table"
           }
          ]
         },
         "layout": {
          "annotationdefaults": {
           "arrowcolor": "#2a3f5f",
           "arrowhead": 0,
           "arrowwidth": 1
          },
          "autotypenumbers": "strict",
          "coloraxis": {
           "colorbar": {
            "outlinewidth": 0,
            "ticks": ""
           }
          },
          "colorscale": {
           "diverging": [
            [
             0,
             "#8e0152"
            ],
            [
             0.1,
             "#c51b7d"
            ],
            [
             0.2,
             "#de77ae"
            ],
            [
             0.3,
             "#f1b6da"
            ],
            [
             0.4,
             "#fde0ef"
            ],
            [
             0.5,
             "#f7f7f7"
            ],
            [
             0.6,
             "#e6f5d0"
            ],
            [
             0.7,
             "#b8e186"
            ],
            [
             0.8,
             "#7fbc41"
            ],
            [
             0.9,
             "#4d9221"
            ],
            [
             1,
             "#276419"
            ]
           ],
           "sequential": [
            [
             0,
             "#0d0887"
            ],
            [
             0.1111111111111111,
             "#46039f"
            ],
            [
             0.2222222222222222,
             "#7201a8"
            ],
            [
             0.3333333333333333,
             "#9c179e"
            ],
            [
             0.4444444444444444,
             "#bd3786"
            ],
            [
             0.5555555555555556,
             "#d8576b"
            ],
            [
             0.6666666666666666,
             "#ed7953"
            ],
            [
             0.7777777777777778,
             "#fb9f3a"
            ],
            [
             0.8888888888888888,
             "#fdca26"
            ],
            [
             1,
             "#f0f921"
            ]
           ],
           "sequentialminus": [
            [
             0,
             "#0d0887"
            ],
            [
             0.1111111111111111,
             "#46039f"
            ],
            [
             0.2222222222222222,
             "#7201a8"
            ],
            [
             0.3333333333333333,
             "#9c179e"
            ],
            [
             0.4444444444444444,
             "#bd3786"
            ],
            [
             0.5555555555555556,
             "#d8576b"
            ],
            [
             0.6666666666666666,
             "#ed7953"
            ],
            [
             0.7777777777777778,
             "#fb9f3a"
            ],
            [
             0.8888888888888888,
             "#fdca26"
            ],
            [
             1,
             "#f0f921"
            ]
           ]
          },
          "colorway": [
           "#636efa",
           "#EF553B",
           "#00cc96",
           "#ab63fa",
           "#FFA15A",
           "#19d3f3",
           "#FF6692",
           "#B6E880",
           "#FF97FF",
           "#FECB52"
          ],
          "font": {
           "color": "#2a3f5f"
          },
          "geo": {
           "bgcolor": "white",
           "lakecolor": "white",
           "landcolor": "#E5ECF6",
           "showlakes": true,
           "showland": true,
           "subunitcolor": "white"
          },
          "hoverlabel": {
           "align": "left"
          },
          "hovermode": "closest",
          "mapbox": {
           "style": "light"
          },
          "paper_bgcolor": "white",
          "plot_bgcolor": "#E5ECF6",
          "polar": {
           "angularaxis": {
            "gridcolor": "white",
            "linecolor": "white",
            "ticks": ""
           },
           "bgcolor": "#E5ECF6",
           "radialaxis": {
            "gridcolor": "white",
            "linecolor": "white",
            "ticks": ""
           }
          },
          "scene": {
           "xaxis": {
            "backgroundcolor": "#E5ECF6",
            "gridcolor": "white",
            "gridwidth": 2,
            "linecolor": "white",
            "showbackground": true,
            "ticks": "",
            "zerolinecolor": "white"
           },
           "yaxis": {
            "backgroundcolor": "#E5ECF6",
            "gridcolor": "white",
            "gridwidth": 2,
            "linecolor": "white",
            "showbackground": true,
            "ticks": "",
            "zerolinecolor": "white"
           },
           "zaxis": {
            "backgroundcolor": "#E5ECF6",
            "gridcolor": "white",
            "gridwidth": 2,
            "linecolor": "white",
            "showbackground": true,
            "ticks": "",
            "zerolinecolor": "white"
           }
          },
          "shapedefaults": {
           "line": {
            "color": "#2a3f5f"
           }
          },
          "ternary": {
           "aaxis": {
            "gridcolor": "white",
            "linecolor": "white",
            "ticks": ""
           },
           "baxis": {
            "gridcolor": "white",
            "linecolor": "white",
            "ticks": ""
           },
           "bgcolor": "#E5ECF6",
           "caxis": {
            "gridcolor": "white",
            "linecolor": "white",
            "ticks": ""
           }
          },
          "title": {
           "x": 0.05
          },
          "xaxis": {
           "automargin": true,
           "gridcolor": "white",
           "linecolor": "white",
           "ticks": "",
           "title": {
            "standoff": 15
           },
           "zerolinecolor": "white",
           "zerolinewidth": 2
          },
          "yaxis": {
           "automargin": true,
           "gridcolor": "white",
           "linecolor": "white",
           "ticks": "",
           "title": {
            "standoff": 15
           },
           "zerolinecolor": "white",
           "zerolinewidth": 2
          }
         }
        },
        "xaxis": {
         "anchor": "y",
         "domain": [
          0,
          0.45
         ]
        },
        "xaxis2": {
         "anchor": "y2",
         "domain": [
          0.55,
          1
         ]
        },
        "yaxis": {
         "anchor": "x",
         "domain": [
          0,
          1
         ]
        },
        "yaxis2": {
         "anchor": "x2",
         "domain": [
          0,
          1
         ],
         "matches": "y",
         "showticklabels": false
        }
       }
      },
      "text/html": [
       "<div>                            <div id=\"7eee2982-abd5-4f37-9de5-5160e0ddaf30\" class=\"plotly-graph-div\" style=\"height:525px; width:100%;\"></div>            <script type=\"text/javascript\">                require([\"plotly\"], function(Plotly) {                    window.PLOTLYENV=window.PLOTLYENV || {};                                    if (document.getElementById(\"7eee2982-abd5-4f37-9de5-5160e0ddaf30\")) {                    Plotly.newPlot(                        \"7eee2982-abd5-4f37-9de5-5160e0ddaf30\",                        [{\"marker\":{\"color\":[0.010547692887485027,0.010013993829488754,0.00962337851524353,0.008545049466192722,0.007962381467223167,0.0069287968799471855,0.005335681606084108,0.0045856088399887085,0.004252792336046696,0.004069036804139614],\"coloraxis\":\"coloraxis\"},\"x\":[\"error\",\"using\",\"closed\",\"file\",\"use\",\"api\",\"app\",\"flutter\",\"files\",\"multiple\"],\"y\":[0.010547692887485027,0.010013993829488754,0.00962337851524353,0.008545049466192722,0.007962381467223167,0.0069287968799471855,0.005335681606084108,0.0045856088399887085,0.004252792336046696,0.004069036804139614],\"type\":\"bar\",\"xaxis\":\"x\",\"yaxis\":\"y\"},{\"marker\":{\"color\":[0.015481637790799141,0.01279163733124733,0.009853508323431015,0.007666179910302162,0.007073529995977879,0.0070725614205002785,0.006867299322038889,0.006025427021086216,0.005843265913426876,0.004995262715965509],\"coloraxis\":\"coloraxis\"},\"x\":[\"using\",\"python\",\"function\",\"data\",\"error\",\"code\",\"closed\",\"duplicate\",\"working\",\"get\"],\"y\":[0.015481637790799141,0.01279163733124733,0.009853508323431015,0.007666179910302162,0.007073529995977879,0.0070725614205002785,0.006867299322038889,0.006025427021086216,0.005843265913426876,0.004995262715965509],\"type\":\"bar\",\"xaxis\":\"x2\",\"yaxis\":\"y2\"}],                        {\"template\":{\"data\":{\"histogram2dcontour\":[{\"type\":\"histogram2dcontour\",\"colorbar\":{\"outlinewidth\":0,\"ticks\":\"\"},\"colorscale\":[[0.0,\"#0d0887\"],[0.1111111111111111,\"#46039f\"],[0.2222222222222222,\"#7201a8\"],[0.3333333333333333,\"#9c179e\"],[0.4444444444444444,\"#bd3786\"],[0.5555555555555556,\"#d8576b\"],[0.6666666666666666,\"#ed7953\"],[0.7777777777777778,\"#fb9f3a\"],[0.8888888888888888,\"#fdca26\"],[1.0,\"#f0f921\"]]}],\"choropleth\":[{\"type\":\"choropleth\",\"colorbar\":{\"outlinewidth\":0,\"ticks\":\"\"}}],\"histogram2d\":[{\"type\":\"histogram2d\",\"colorbar\":{\"outlinewidth\":0,\"ticks\":\"\"},\"colorscale\":[[0.0,\"#0d0887\"],[0.1111111111111111,\"#46039f\"],[0.2222222222222222,\"#7201a8\"],[0.3333333333333333,\"#9c179e\"],[0.4444444444444444,\"#bd3786\"],[0.5555555555555556,\"#d8576b\"],[0.6666666666666666,\"#ed7953\"],[0.7777777777777778,\"#fb9f3a\"],[0.8888888888888888,\"#fdca26\"],[1.0,\"#f0f921\"]]}],\"heatmap\":[{\"type\":\"heatmap\",\"colorbar\":{\"outlinewidth\":0,\"ticks\":\"\"},\"colorscale\":[[0.0,\"#0d0887\"],[0.1111111111111111,\"#46039f\"],[0.2222222222222222,\"#7201a8\"],[0.3333333333333333,\"#9c179e\"],[0.4444444444444444,\"#bd3786\"],[0.5555555555555556,\"#d8576b\"],[0.6666666666666666,\"#ed7953\"],[0.7777777777777778,\"#fb9f3a\"],[0.8888888888888888,\"#fdca26\"],[1.0,\"#f0f921\"]]}],\"heatmapgl\":[{\"type\":\"heatmapgl\",\"colorbar\":{\"outlinewidth\":0,\"ticks\":\"\"},\"colorscale\":[[0.0,\"#0d0887\"],[0.1111111111111111,\"#46039f\"],[0.2222222222222222,\"#7201a8\"],[0.3333333333333333,\"#9c179e\"],[0.4444444444444444,\"#bd3786\"],[0.5555555555555556,\"#d8576b\"],[0.6666666666666666,\"#ed7953\"],[0.7777777777777778,\"#fb9f3a\"],[0.8888888888888888,\"#fdca26\"],[1.0,\"#f0f921\"]]}],\"contourcarpet\":[{\"type\":\"contourcarpet\",\"colorbar\":{\"outlinewidth\":0,\"ticks\":\"\"}}],\"contour\":[{\"type\":\"contour\",\"colorbar\":{\"outlinewidth\":0,\"ticks\":\"\"},\"colorscale\":[[0.0,\"#0d0887\"],[0.1111111111111111,\"#46039f\"],[0.2222222222222222,\"#7201a8\"],[0.3333333333333333,\"#9c179e\"],[0.4444444444444444,\"#bd3786\"],[0.5555555555555556,\"#d8576b\"],[0.6666666666666666,\"#ed7953\"],[0.7777777777777778,\"#fb9f3a\"],[0.8888888888888888,\"#fdca26\"],[1.0,\"#f0f921\"]]}],\"surface\":[{\"type\":\"surface\",\"colorbar\":{\"outlinewidth\":0,\"ticks\":\"\"},\"colorscale\":[[0.0,\"#0d0887\"],[0.1111111111111111,\"#46039f\"],[0.2222222222222222,\"#7201a8\"],[0.3333333333333333,\"#9c179e\"],[0.4444444444444444,\"#bd3786\"],[0.5555555555555556,\"#d8576b\"],[0.6666666666666666,\"#ed7953\"],[0.7777777777777778,\"#fb9f3a\"],[0.8888888888888888,\"#fdca26\"],[1.0,\"#f0f921\"]]}],\"mesh3d\":[{\"type\":\"mesh3d\",\"colorbar\":{\"outlinewidth\":0,\"ticks\":\"\"}}],\"scatter\":[{\"fillpattern\":{\"fillmode\":\"overlay\",\"size\":10,\"solidity\":0.2},\"type\":\"scatter\"}],\"parcoords\":[{\"type\":\"parcoords\",\"line\":{\"colorbar\":{\"outlinewidth\":0,\"ticks\":\"\"}}}],\"scatterpolargl\":[{\"type\":\"scatterpolargl\",\"marker\":{\"colorbar\":{\"outlinewidth\":0,\"ticks\":\"\"}}}],\"bar\":[{\"error_x\":{\"color\":\"#2a3f5f\"},\"error_y\":{\"color\":\"#2a3f5f\"},\"marker\":{\"line\":{\"color\":\"#E5ECF6\",\"width\":0.5},\"pattern\":{\"fillmode\":\"overlay\",\"size\":10,\"solidity\":0.2}},\"type\":\"bar\"}],\"scattergeo\":[{\"type\":\"scattergeo\",\"marker\":{\"colorbar\":{\"outlinewidth\":0,\"ticks\":\"\"}}}],\"scatterpolar\":[{\"type\":\"scatterpolar\",\"marker\":{\"colorbar\":{\"outlinewidth\":0,\"ticks\":\"\"}}}],\"histogram\":[{\"marker\":{\"pattern\":{\"fillmode\":\"overlay\",\"size\":10,\"solidity\":0.2}},\"type\":\"histogram\"}],\"scattergl\":[{\"type\":\"scattergl\",\"marker\":{\"colorbar\":{\"outlinewidth\":0,\"ticks\":\"\"}}}],\"scatter3d\":[{\"type\":\"scatter3d\",\"line\":{\"colorbar\":{\"outlinewidth\":0,\"ticks\":\"\"}},\"marker\":{\"colorbar\":{\"outlinewidth\":0,\"ticks\":\"\"}}}],\"scattermapbox\":[{\"type\":\"scattermapbox\",\"marker\":{\"colorbar\":{\"outlinewidth\":0,\"ticks\":\"\"}}}],\"scatterternary\":[{\"type\":\"scatterternary\",\"marker\":{\"colorbar\":{\"outlinewidth\":0,\"ticks\":\"\"}}}],\"scattercarpet\":[{\"type\":\"scattercarpet\",\"marker\":{\"colorbar\":{\"outlinewidth\":0,\"ticks\":\"\"}}}],\"carpet\":[{\"aaxis\":{\"endlinecolor\":\"#2a3f5f\",\"gridcolor\":\"white\",\"linecolor\":\"white\",\"minorgridcolor\":\"white\",\"startlinecolor\":\"#2a3f5f\"},\"baxis\":{\"endlinecolor\":\"#2a3f5f\",\"gridcolor\":\"white\",\"linecolor\":\"white\",\"minorgridcolor\":\"white\",\"startlinecolor\":\"#2a3f5f\"},\"type\":\"carpet\"}],\"table\":[{\"cells\":{\"fill\":{\"color\":\"#EBF0F8\"},\"line\":{\"color\":\"white\"}},\"header\":{\"fill\":{\"color\":\"#C8D4E3\"},\"line\":{\"color\":\"white\"}},\"type\":\"table\"}],\"barpolar\":[{\"marker\":{\"line\":{\"color\":\"#E5ECF6\",\"width\":0.5},\"pattern\":{\"fillmode\":\"overlay\",\"size\":10,\"solidity\":0.2}},\"type\":\"barpolar\"}],\"pie\":[{\"automargin\":true,\"type\":\"pie\"}]},\"layout\":{\"autotypenumbers\":\"strict\",\"colorway\":[\"#636efa\",\"#EF553B\",\"#00cc96\",\"#ab63fa\",\"#FFA15A\",\"#19d3f3\",\"#FF6692\",\"#B6E880\",\"#FF97FF\",\"#FECB52\"],\"font\":{\"color\":\"#2a3f5f\"},\"hovermode\":\"closest\",\"hoverlabel\":{\"align\":\"left\"},\"paper_bgcolor\":\"white\",\"plot_bgcolor\":\"#E5ECF6\",\"polar\":{\"bgcolor\":\"#E5ECF6\",\"angularaxis\":{\"gridcolor\":\"white\",\"linecolor\":\"white\",\"ticks\":\"\"},\"radialaxis\":{\"gridcolor\":\"white\",\"linecolor\":\"white\",\"ticks\":\"\"}},\"ternary\":{\"bgcolor\":\"#E5ECF6\",\"aaxis\":{\"gridcolor\":\"white\",\"linecolor\":\"white\",\"ticks\":\"\"},\"baxis\":{\"gridcolor\":\"white\",\"linecolor\":\"white\",\"ticks\":\"\"},\"caxis\":{\"gridcolor\":\"white\",\"linecolor\":\"white\",\"ticks\":\"\"}},\"coloraxis\":{\"colorbar\":{\"outlinewidth\":0,\"ticks\":\"\"}},\"colorscale\":{\"sequential\":[[0.0,\"#0d0887\"],[0.1111111111111111,\"#46039f\"],[0.2222222222222222,\"#7201a8\"],[0.3333333333333333,\"#9c179e\"],[0.4444444444444444,\"#bd3786\"],[0.5555555555555556,\"#d8576b\"],[0.6666666666666666,\"#ed7953\"],[0.7777777777777778,\"#fb9f3a\"],[0.8888888888888888,\"#fdca26\"],[1.0,\"#f0f921\"]],\"sequentialminus\":[[0.0,\"#0d0887\"],[0.1111111111111111,\"#46039f\"],[0.2222222222222222,\"#7201a8\"],[0.3333333333333333,\"#9c179e\"],[0.4444444444444444,\"#bd3786\"],[0.5555555555555556,\"#d8576b\"],[0.6666666666666666,\"#ed7953\"],[0.7777777777777778,\"#fb9f3a\"],[0.8888888888888888,\"#fdca26\"],[1.0,\"#f0f921\"]],\"diverging\":[[0,\"#8e0152\"],[0.1,\"#c51b7d\"],[0.2,\"#de77ae\"],[0.3,\"#f1b6da\"],[0.4,\"#fde0ef\"],[0.5,\"#f7f7f7\"],[0.6,\"#e6f5d0\"],[0.7,\"#b8e186\"],[0.8,\"#7fbc41\"],[0.9,\"#4d9221\"],[1,\"#276419\"]]},\"xaxis\":{\"gridcolor\":\"white\",\"linecolor\":\"white\",\"ticks\":\"\",\"title\":{\"standoff\":15},\"zerolinecolor\":\"white\",\"automargin\":true,\"zerolinewidth\":2},\"yaxis\":{\"gridcolor\":\"white\",\"linecolor\":\"white\",\"ticks\":\"\",\"title\":{\"standoff\":15},\"zerolinecolor\":\"white\",\"automargin\":true,\"zerolinewidth\":2},\"scene\":{\"xaxis\":{\"backgroundcolor\":\"#E5ECF6\",\"gridcolor\":\"white\",\"linecolor\":\"white\",\"showbackground\":true,\"ticks\":\"\",\"zerolinecolor\":\"white\",\"gridwidth\":2},\"yaxis\":{\"backgroundcolor\":\"#E5ECF6\",\"gridcolor\":\"white\",\"linecolor\":\"white\",\"showbackground\":true,\"ticks\":\"\",\"zerolinecolor\":\"white\",\"gridwidth\":2},\"zaxis\":{\"backgroundcolor\":\"#E5ECF6\",\"gridcolor\":\"white\",\"linecolor\":\"white\",\"showbackground\":true,\"ticks\":\"\",\"zerolinecolor\":\"white\",\"gridwidth\":2}},\"shapedefaults\":{\"line\":{\"color\":\"#2a3f5f\"}},\"annotationdefaults\":{\"arrowcolor\":\"#2a3f5f\",\"arrowhead\":0,\"arrowwidth\":1},\"geo\":{\"bgcolor\":\"white\",\"landcolor\":\"#E5ECF6\",\"subunitcolor\":\"white\",\"showland\":true,\"showlakes\":true,\"lakecolor\":\"white\"},\"title\":{\"x\":0.05},\"mapbox\":{\"style\":\"light\"}}},\"xaxis\":{\"anchor\":\"y\",\"domain\":[0.0,0.45]},\"yaxis\":{\"anchor\":\"x\",\"domain\":[0.0,1.0]},\"xaxis2\":{\"anchor\":\"y2\",\"domain\":[0.55,1.0]},\"yaxis2\":{\"anchor\":\"x2\",\"domain\":[0.0,1.0],\"matches\":\"y\",\"showticklabels\":false},\"annotations\":[{\"font\":{\"size\":16},\"showarrow\":false,\"text\":\"T\\u00f3pico 1\",\"x\":0.225,\"xanchor\":\"center\",\"xref\":\"paper\",\"y\":1.0,\"yanchor\":\"bottom\",\"yref\":\"paper\"},{\"font\":{\"size\":16},\"showarrow\":false,\"text\":\"T\\u00f3pico 2\",\"x\":0.775,\"xanchor\":\"center\",\"xref\":\"paper\",\"y\":1.0,\"yanchor\":\"bottom\",\"yref\":\"paper\"}],\"coloraxis\":{\"colorscale\":[[0.0,\"rgb(255,0,0)\"],[1.0,\"rgb(0,0,255)\"]]},\"showlegend\":false},                        {\"responsive\": true}                    ).then(function(){\n",
       "                            \n",
       "var gd = document.getElementById('7eee2982-abd5-4f37-9de5-5160e0ddaf30');\n",
       "var x = new MutationObserver(function (mutations, observer) {{\n",
       "        var display = window.getComputedStyle(gd).display;\n",
       "        if (!display || display === 'none') {{\n",
       "            console.log([gd, 'removed!']);\n",
       "            Plotly.purge(gd);\n",
       "            observer.disconnect();\n",
       "        }}\n",
       "}});\n",
       "\n",
       "// Listen for the removal of the full notebook cells\n",
       "var notebookContainer = gd.closest('#notebook-container');\n",
       "if (notebookContainer) {{\n",
       "    x.observe(notebookContainer, {childList: true});\n",
       "}}\n",
       "\n",
       "// Listen for the clearing of the current output cell\n",
       "var outputEl = gd.closest('.output');\n",
       "if (outputEl) {{\n",
       "    x.observe(outputEl, {childList: true});\n",
       "}}\n",
       "\n",
       "                        })                };                });            </script>        </div>"
      ]
     },
     "metadata": {},
     "output_type": "display_data"
    }
   ],
   "source": [
    "lda_top = lda.show_topics(formatted=False)\n",
    "\n",
    "fig = make_subplots(rows=1, cols=2, shared_yaxes=True, subplot_titles=('Tópico 1', 'Tópico 2'))\n",
    "\n",
    "for i in range(2):\n",
    "    topico = lda_top[i][1]\n",
    "    topico.sort(key=lambda x: x[1], reverse=True)\n",
    "\n",
    "    palavra = list(zip(*topico))[0]\n",
    "    score = list(zip(*topico))[1]\n",
    "    \n",
    "    fig.add_trace(go.Bar(x=palavra, y=score,\n",
    "                         marker=dict(color=score, coloraxis=\"coloraxis\")), 1, i+1)\n",
    "    \n",
    "fig.update_layout(coloraxis=dict(colorscale='Bluered_r'), showlegend=False)\n",
    "fig.show()"
   ]
  },
  {
   "cell_type": "code",
   "execution_count": 57,
   "id": "742f5658",
   "metadata": {},
   "outputs": [
    {
     "name": "stdout",
     "output_type": "stream",
     "text": [
      "[(0, 0.5087749), (1, 0.49122515)] how to use python\n",
      "[(0, 0.28659678), (1, 0.7134032)] i have error in data \n"
     ]
    }
   ],
   "source": [
    "doc = ['how to use python',\n",
    "       'i have error in data ']\n",
    "\n",
    "token_frase = [word_tokenize(frase) for frase in doc]\n",
    "\n",
    "corpus_ex = [dic.doc2bow(lista) for lista in token_frase]\n",
    "lda_res = lda[corpus_ex]\n",
    "\n",
    "for doc, as_text in zip(lda_res, doc):\n",
    "    print(doc, as_text)"
   ]
  }
 ],
 "metadata": {
  "kernelspec": {
   "display_name": "Python 3 (ipykernel)",
   "language": "python",
   "name": "python3"
  },
  "language_info": {
   "codemirror_mode": {
    "name": "ipython",
    "version": 3
   },
   "file_extension": ".py",
   "mimetype": "text/x-python",
   "name": "python",
   "nbconvert_exporter": "python",
   "pygments_lexer": "ipython3",
   "version": "3.8.3"
  }
 },
 "nbformat": 4,
 "nbformat_minor": 5
}
